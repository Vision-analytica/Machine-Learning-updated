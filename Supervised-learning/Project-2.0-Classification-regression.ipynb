{
 "cells": [
  {
   "cell_type": "markdown",
   "metadata": {},
   "source": [
    "# Classification regression\n",
    "\n",
    "In this example, I will be folloing the example at page-158 of chapter-5 on the 'German credit rating dataset'. \n",
    "\n",
    "**About the datasets:** German credit rating dataset is available at the University of California\n",
    "Irvine (UCI) machine learning laboratory to predict whether a credit is a good or bad credit. Credit\n",
    "classification is one of the popular classification problems encountered by financial institutions. For\n",
    "example, when a customer applies for a loan, financial institutions such as banks would like to predict\n",
    "the probability of default. In this jupyter notebook, we will be using the German credit rating dataset provided by Prof. Hofmann (available at UCI machine learning data repository). \n",
    "\n",
    "The data contains several attributes of the persons who availed the credit.\n",
    "\n",
    "https://archive.ics.uci.edu/dataset/144/statlog+german+credit+data"
   ]
  },
  {
   "cell_type": "code",
   "execution_count": 1,
   "metadata": {},
   "outputs": [],
   "source": [
    "import numpy as np\n",
    "import pandas as pd\n",
    "import seaborn as sns\n",
    "import statsmodels.api as sm\n",
    "import matplotlib.pyplot as plt"
   ]
  },
  {
   "cell_type": "code",
   "execution_count": 2,
   "metadata": {},
   "outputs": [
    {
     "name": "stderr",
     "output_type": "stream",
     "text": [
      "<>:1: SyntaxWarning: invalid escape sequence '\\A'\n",
      "<>:1: SyntaxWarning: invalid escape sequence '\\A'\n",
      "C:\\Users\\hp\\AppData\\Local\\Temp\\ipykernel_2220\\3420212644.py:1: SyntaxWarning: invalid escape sequence '\\A'\n",
      "  credit_df = pd.read_csv('D:\\Arun 2022\\Github\\Machine-Learning\\ml-data\\German Credit Data.csv')\n"
     ]
    }
   ],
   "source": [
    "credit_df = pd.read_csv('D:\\Arun 2022\\Github\\Machine-Learning\\ml-data\\German Credit Data.csv')"
   ]
  },
  {
   "cell_type": "code",
   "execution_count": 3,
   "metadata": {},
   "outputs": [
    {
     "name": "stdout",
     "output_type": "stream",
     "text": [
      "<class 'pandas.core.frame.DataFrame'>\n",
      "RangeIndex: 1000 entries, 0 to 999\n",
      "Data columns (total 14 columns):\n",
      " #   Column             Non-Null Count  Dtype \n",
      "---  ------             --------------  ----- \n",
      " 0   checkin_acc        1000 non-null   object\n",
      " 1   duration           1000 non-null   int64 \n",
      " 2   credit_history     1000 non-null   object\n",
      " 3   amount             1000 non-null   int64 \n",
      " 4   savings_acc        1000 non-null   object\n",
      " 5   present_emp_since  1000 non-null   object\n",
      " 6   inst_rate          1000 non-null   int64 \n",
      " 7   personal_status    1000 non-null   object\n",
      " 8   residing_since     1000 non-null   int64 \n",
      " 9   age                1000 non-null   int64 \n",
      " 10  inst_plans         1000 non-null   object\n",
      " 11  num_credits        1000 non-null   int64 \n",
      " 12  job                1000 non-null   object\n",
      " 13  status             1000 non-null   int64 \n",
      "dtypes: int64(7), object(7)\n",
      "memory usage: 109.5+ KB\n"
     ]
    }
   ],
   "source": [
    "credit_df.info()"
   ]
  },
  {
   "cell_type": "markdown",
   "metadata": {},
   "source": [
    "The dataset contains 1000 records and 14 columns. "
   ]
  },
  {
   "cell_type": "code",
   "execution_count": 4,
   "metadata": {},
   "outputs": [
    {
     "data": {
      "text/html": [
       "<div>\n",
       "<style scoped>\n",
       "    .dataframe tbody tr th:only-of-type {\n",
       "        vertical-align: middle;\n",
       "    }\n",
       "\n",
       "    .dataframe tbody tr th {\n",
       "        vertical-align: top;\n",
       "    }\n",
       "\n",
       "    .dataframe thead th {\n",
       "        text-align: right;\n",
       "    }\n",
       "</style>\n",
       "<table border=\"1\" class=\"dataframe\">\n",
       "  <thead>\n",
       "    <tr style=\"text-align: right;\">\n",
       "      <th></th>\n",
       "      <th>duration</th>\n",
       "      <th>credit_history</th>\n",
       "      <th>amount</th>\n",
       "      <th>savings_acc</th>\n",
       "      <th>present_emp_since</th>\n",
       "      <th>inst_rate</th>\n",
       "    </tr>\n",
       "  </thead>\n",
       "  <tbody>\n",
       "    <tr>\n",
       "      <th>0</th>\n",
       "      <td>6</td>\n",
       "      <td>A34</td>\n",
       "      <td>1169</td>\n",
       "      <td>A65</td>\n",
       "      <td>A75</td>\n",
       "      <td>4</td>\n",
       "    </tr>\n",
       "    <tr>\n",
       "      <th>1</th>\n",
       "      <td>48</td>\n",
       "      <td>A32</td>\n",
       "      <td>5951</td>\n",
       "      <td>A61</td>\n",
       "      <td>A73</td>\n",
       "      <td>2</td>\n",
       "    </tr>\n",
       "    <tr>\n",
       "      <th>2</th>\n",
       "      <td>12</td>\n",
       "      <td>A34</td>\n",
       "      <td>2096</td>\n",
       "      <td>A61</td>\n",
       "      <td>A74</td>\n",
       "      <td>2</td>\n",
       "    </tr>\n",
       "    <tr>\n",
       "      <th>3</th>\n",
       "      <td>42</td>\n",
       "      <td>A32</td>\n",
       "      <td>7882</td>\n",
       "      <td>A61</td>\n",
       "      <td>A74</td>\n",
       "      <td>2</td>\n",
       "    </tr>\n",
       "    <tr>\n",
       "      <th>4</th>\n",
       "      <td>24</td>\n",
       "      <td>A33</td>\n",
       "      <td>4870</td>\n",
       "      <td>A61</td>\n",
       "      <td>A73</td>\n",
       "      <td>3</td>\n",
       "    </tr>\n",
       "  </tbody>\n",
       "</table>\n",
       "</div>"
      ],
      "text/plain": [
       "   duration credit_history  amount savings_acc present_emp_since  inst_rate\n",
       "0         6            A34    1169         A65               A75          4\n",
       "1        48            A32    5951         A61               A73          2\n",
       "2        12            A34    2096         A61               A74          2\n",
       "3        42            A32    7882         A61               A74          2\n",
       "4        24            A33    4870         A61               A73          3"
      ]
     },
     "execution_count": 4,
     "metadata": {},
     "output_type": "execute_result"
    }
   ],
   "source": [
    "credit_df.iloc[0:5, 1:7]"
   ]
  },
  {
   "cell_type": "code",
   "execution_count": 5,
   "metadata": {},
   "outputs": [
    {
     "data": {
      "text/html": [
       "<div>\n",
       "<style scoped>\n",
       "    .dataframe tbody tr th:only-of-type {\n",
       "        vertical-align: middle;\n",
       "    }\n",
       "\n",
       "    .dataframe tbody tr th {\n",
       "        vertical-align: top;\n",
       "    }\n",
       "\n",
       "    .dataframe thead th {\n",
       "        text-align: right;\n",
       "    }\n",
       "</style>\n",
       "<table border=\"1\" class=\"dataframe\">\n",
       "  <thead>\n",
       "    <tr style=\"text-align: right;\">\n",
       "      <th></th>\n",
       "      <th>checkin_acc</th>\n",
       "      <th>duration</th>\n",
       "      <th>credit_history</th>\n",
       "      <th>amount</th>\n",
       "      <th>savings_acc</th>\n",
       "      <th>present_emp_since</th>\n",
       "      <th>inst_rate</th>\n",
       "      <th>personal_status</th>\n",
       "      <th>residing_since</th>\n",
       "      <th>age</th>\n",
       "      <th>inst_plans</th>\n",
       "      <th>num_credits</th>\n",
       "      <th>job</th>\n",
       "      <th>status</th>\n",
       "    </tr>\n",
       "  </thead>\n",
       "  <tbody>\n",
       "    <tr>\n",
       "      <th>0</th>\n",
       "      <td>A11</td>\n",
       "      <td>6</td>\n",
       "      <td>A34</td>\n",
       "      <td>1169</td>\n",
       "      <td>A65</td>\n",
       "      <td>A75</td>\n",
       "      <td>4</td>\n",
       "      <td>A93</td>\n",
       "      <td>4</td>\n",
       "      <td>67</td>\n",
       "      <td>A143</td>\n",
       "      <td>2</td>\n",
       "      <td>A173</td>\n",
       "      <td>0</td>\n",
       "    </tr>\n",
       "    <tr>\n",
       "      <th>1</th>\n",
       "      <td>A12</td>\n",
       "      <td>48</td>\n",
       "      <td>A32</td>\n",
       "      <td>5951</td>\n",
       "      <td>A61</td>\n",
       "      <td>A73</td>\n",
       "      <td>2</td>\n",
       "      <td>A92</td>\n",
       "      <td>2</td>\n",
       "      <td>22</td>\n",
       "      <td>A143</td>\n",
       "      <td>1</td>\n",
       "      <td>A173</td>\n",
       "      <td>1</td>\n",
       "    </tr>\n",
       "    <tr>\n",
       "      <th>2</th>\n",
       "      <td>A14</td>\n",
       "      <td>12</td>\n",
       "      <td>A34</td>\n",
       "      <td>2096</td>\n",
       "      <td>A61</td>\n",
       "      <td>A74</td>\n",
       "      <td>2</td>\n",
       "      <td>A93</td>\n",
       "      <td>3</td>\n",
       "      <td>49</td>\n",
       "      <td>A143</td>\n",
       "      <td>1</td>\n",
       "      <td>A172</td>\n",
       "      <td>0</td>\n",
       "    </tr>\n",
       "    <tr>\n",
       "      <th>3</th>\n",
       "      <td>A11</td>\n",
       "      <td>42</td>\n",
       "      <td>A32</td>\n",
       "      <td>7882</td>\n",
       "      <td>A61</td>\n",
       "      <td>A74</td>\n",
       "      <td>2</td>\n",
       "      <td>A93</td>\n",
       "      <td>4</td>\n",
       "      <td>45</td>\n",
       "      <td>A143</td>\n",
       "      <td>1</td>\n",
       "      <td>A173</td>\n",
       "      <td>0</td>\n",
       "    </tr>\n",
       "    <tr>\n",
       "      <th>4</th>\n",
       "      <td>A11</td>\n",
       "      <td>24</td>\n",
       "      <td>A33</td>\n",
       "      <td>4870</td>\n",
       "      <td>A61</td>\n",
       "      <td>A73</td>\n",
       "      <td>3</td>\n",
       "      <td>A93</td>\n",
       "      <td>4</td>\n",
       "      <td>53</td>\n",
       "      <td>A143</td>\n",
       "      <td>2</td>\n",
       "      <td>A173</td>\n",
       "      <td>1</td>\n",
       "    </tr>\n",
       "  </tbody>\n",
       "</table>\n",
       "</div>"
      ],
      "text/plain": [
       "  checkin_acc  duration credit_history  amount savings_acc present_emp_since  \\\n",
       "0         A11         6            A34    1169         A65               A75   \n",
       "1         A12        48            A32    5951         A61               A73   \n",
       "2         A14        12            A34    2096         A61               A74   \n",
       "3         A11        42            A32    7882         A61               A74   \n",
       "4         A11        24            A33    4870         A61               A73   \n",
       "\n",
       "   inst_rate personal_status  residing_since  age inst_plans  num_credits  \\\n",
       "0          4             A93               4   67       A143            2   \n",
       "1          2             A92               2   22       A143            1   \n",
       "2          2             A93               3   49       A143            1   \n",
       "3          2             A93               4   45       A143            1   \n",
       "4          3             A93               4   53       A143            2   \n",
       "\n",
       "    job  status  \n",
       "0  A173       0  \n",
       "1  A173       1  \n",
       "2  A172       0  \n",
       "3  A173       0  \n",
       "4  A173       1  "
      ]
     },
     "execution_count": 5,
     "metadata": {},
     "output_type": "execute_result"
    }
   ],
   "source": [
    "credit_df.head()"
   ]
  },
  {
   "cell_type": "code",
   "execution_count": 6,
   "metadata": {},
   "outputs": [
    {
     "data": {
      "text/plain": [
       "Index(['checkin_acc', 'duration', 'credit_history', 'amount', 'savings_acc',\n",
       "       'present_emp_since', 'inst_rate', 'personal_status', 'residing_since',\n",
       "       'age', 'inst_plans', 'num_credits', 'job', 'status'],\n",
       "      dtype='object')"
      ]
     },
     "execution_count": 6,
     "metadata": {},
     "output_type": "execute_result"
    }
   ],
   "source": [
    "credit_df.columns"
   ]
  },
  {
   "cell_type": "code",
   "execution_count": 7,
   "metadata": {},
   "outputs": [
    {
     "data": {
      "text/plain": [
       "array(['A11', 'A12', 'A14', 'A13'], dtype=object)"
      ]
     },
     "execution_count": 7,
     "metadata": {},
     "output_type": "execute_result"
    }
   ],
   "source": [
    "credit_df['checkin_acc'].unique()"
   ]
  },
  {
   "cell_type": "markdown",
   "metadata": {},
   "source": [
    "There are few columns which are categorical and have been inferred as objects. For example, checkin_acc\n",
    "has following categories:\n",
    "\n",
    "\n",
    "| Credit Rating\t| Description | Money |\n",
    "|---------------|-------------|-------|\n",
    "| A11\t| Very poor creditworthiness. The debtor has no or negative assets. | No checking account |\n",
    "| A12\t| Poor creditworthiness. The debtor has some assets, but these are not sufficient to cover their liabilities. | Checking account with < 200 DM |\n",
    "| A13\t| Good creditworthiness. The debtor has sufficient assets to cover their liabilities. They have a regular income from salary assignments and have been receiving these payments for at least one year. | Checking account with >= 200 DM and at least one year of salary assignments |\n",
    "| A14\t| No checking account. The debtor does not have a checking account. This can make it difficult for them to manage their finances and may indicate that they are financially unstable. | Checking account with >= 200 DM and no salary assignments |\n",
    "\n",
    "(above 'DM' represents `Deutsche Mark`)"
   ]
  },
  {
   "cell_type": "code",
   "execution_count": 8,
   "metadata": {},
   "outputs": [
    {
     "data": {
      "text/plain": [
       "array(['A173', 'A172', 'A174', 'A171'], dtype=object)"
      ]
     },
     "execution_count": 8,
     "metadata": {},
     "output_type": "execute_result"
    }
   ],
   "source": [
    "credit_df['job'].unique()"
   ]
  },
  {
   "cell_type": "markdown",
   "metadata": {},
   "source": [
    "- A173: Unskilled laborer\n",
    "- A172: Skilled laborer\n",
    "- A174: Employee\n",
    "- A171: Civil servant"
   ]
  },
  {
   "cell_type": "code",
   "execution_count": 9,
   "metadata": {},
   "outputs": [
    {
     "data": {
      "text/plain": [
       "array([ 6, 48, 12, 42, 24, 36, 30, 15,  9, 10,  7, 60, 18, 45, 11, 27,  8,\n",
       "       54, 20, 14, 33, 21, 16,  4, 47, 13, 22, 39, 28,  5, 26, 72, 40],\n",
       "      dtype=int64)"
      ]
     },
     "execution_count": 9,
     "metadata": {},
     "output_type": "execute_result"
    }
   ],
   "source": [
    "credit_df['duration'].unique()"
   ]
  },
  {
   "cell_type": "code",
   "execution_count": 10,
   "metadata": {},
   "outputs": [
    {
     "data": {
      "text/plain": [
       "array(['A34', 'A32', 'A33', 'A30', 'A31'], dtype=object)"
      ]
     },
     "execution_count": 10,
     "metadata": {},
     "output_type": "execute_result"
    }
   ],
   "source": [
    "credit_df['credit_history'].unique()"
   ]
  },
  {
   "cell_type": "markdown",
   "metadata": {},
   "source": [
    "- A34: No credit history\n",
    "- A32: Less than 0.5 years of credit history\n",
    "- A33: 0.5 to 1.5 years of credit history\n",
    "- A30: 1.5 to 4 years of credit history\n",
    "- A31: More than 4 years of credit history"
   ]
  },
  {
   "cell_type": "code",
   "execution_count": 11,
   "metadata": {},
   "outputs": [
    {
     "data": {
      "text/plain": [
       "array(['A65', 'A61', 'A63', 'A64', 'A62'], dtype=object)"
      ]
     },
     "execution_count": 11,
     "metadata": {},
     "output_type": "execute_result"
    }
   ],
   "source": [
    "credit_df['savings_acc'].unique()"
   ]
  },
  {
   "cell_type": "markdown",
   "metadata": {},
   "source": [
    "- A65: No savings account or negative savings\n",
    "- A61: 0 <= Savings < 750 DM\n",
    "- A63: 750 <= Savings < 1500 DM\n",
    "- A64: 1500 <= Savings < 3000 DM\n",
    "- A62: Savings >= 3000 DM"
   ]
  },
  {
   "cell_type": "code",
   "execution_count": 12,
   "metadata": {},
   "outputs": [
    {
     "data": {
      "text/plain": [
       "array(['A75', 'A73', 'A74', 'A71', 'A72'], dtype=object)"
      ]
     },
     "execution_count": 12,
     "metadata": {},
     "output_type": "execute_result"
    }
   ],
   "source": [
    "credit_df['present_emp_since'].unique()"
   ]
  },
  {
   "cell_type": "markdown",
   "metadata": {},
   "source": [
    "- A75: Employed less than 1 year\n",
    "- A73: Employed 1 to 4 years\n",
    "- A74: Employed 5 to 7 years\n",
    "- A71: Employed 8 to 10 years\n",
    "-A72: Employed more than 10 years"
   ]
  },
  {
   "cell_type": "code",
   "execution_count": 13,
   "metadata": {},
   "outputs": [
    {
     "data": {
      "text/plain": [
       "array([4, 2, 3, 1], dtype=int64)"
      ]
     },
     "execution_count": 13,
     "metadata": {},
     "output_type": "execute_result"
    }
   ],
   "source": [
    "credit_df['inst_rate'].unique()"
   ]
  },
  {
   "cell_type": "markdown",
   "metadata": {},
   "source": [
    "| Value\t| Interpretation |\n",
    "|-------|----------------|\n",
    "| 1 | Low installment rate (< 20%) |\n",
    "| 2\t| Moderate installment rate (20% - 39%) |\n",
    "| 3\t| High installment rate (40% - 59%) |\n",
    "| 4\t| Very high installment rate (>= 60%) |"
   ]
  },
  {
   "cell_type": "code",
   "execution_count": 14,
   "metadata": {},
   "outputs": [
    {
     "data": {
      "text/plain": [
       "array(['A93', 'A92', 'A91', 'A94'], dtype=object)"
      ]
     },
     "execution_count": 14,
     "metadata": {},
     "output_type": "execute_result"
    }
   ],
   "source": [
    "credit_df['personal_status'].unique()"
   ]
  },
  {
   "cell_type": "markdown",
   "metadata": {},
   "source": [
    "- A93: Married\n",
    "- A92: Single (never married)\n",
    "- A91: Divorced\n",
    "- A94: Widowed"
   ]
  },
  {
   "cell_type": "code",
   "execution_count": 15,
   "metadata": {},
   "outputs": [
    {
     "data": {
      "text/plain": [
       "array([4, 2, 3, 1], dtype=int64)"
      ]
     },
     "execution_count": 15,
     "metadata": {},
     "output_type": "execute_result"
    }
   ],
   "source": [
    "credit_df['residing_since'].unique()"
   ]
  },
  {
   "cell_type": "markdown",
   "metadata": {},
   "source": [
    "| Value | Description |\n",
    "|-------|--------------|\n",
    "| 1  | Less than 1 year |\n",
    "| 2 | 1 to 4 years |\n",
    "| 3 | 5 to 7 years |\n",
    "| 4 | More than 7 years |"
   ]
  },
  {
   "cell_type": "code",
   "execution_count": 16,
   "metadata": {},
   "outputs": [
    {
     "data": {
      "text/plain": [
       "array([67, 22, 49, 45, 53, 35, 61, 28, 25, 24, 60, 32, 44, 31, 48, 26, 36,\n",
       "       39, 42, 34, 63, 27, 30, 57, 33, 37, 58, 23, 29, 52, 50, 46, 51, 41,\n",
       "       40, 66, 47, 56, 54, 20, 21, 38, 70, 65, 74, 68, 43, 55, 64, 75, 19,\n",
       "       62, 59], dtype=int64)"
      ]
     },
     "execution_count": 16,
     "metadata": {},
     "output_type": "execute_result"
    }
   ],
   "source": [
    "credit_df['age'].unique()"
   ]
  },
  {
   "cell_type": "code",
   "execution_count": 17,
   "metadata": {},
   "outputs": [
    {
     "data": {
      "text/plain": [
       "array(['A143', 'A141', 'A142'], dtype=object)"
      ]
     },
     "execution_count": 17,
     "metadata": {},
     "output_type": "execute_result"
    }
   ],
   "source": [
    "credit_df['inst_plans'].unique()"
   ]
  },
  {
   "cell_type": "markdown",
   "metadata": {},
   "source": [
    "| Value\t| Interpretation |\n",
    "|-------|----------------|\n",
    "| A143\t| No installment plans |\n",
    "| A141\t| Regular installment plans |\n",
    "| A142\t| Irregular installment plans |"
   ]
  },
  {
   "cell_type": "code",
   "execution_count": 18,
   "metadata": {},
   "outputs": [
    {
     "data": {
      "text/plain": [
       "array([2, 1, 3, 4], dtype=int64)"
      ]
     },
     "execution_count": 18,
     "metadata": {},
     "output_type": "execute_result"
    }
   ],
   "source": [
    "credit_df['num_credits'].unique()"
   ]
  },
  {
   "cell_type": "markdown",
   "metadata": {},
   "source": [
    "| Value\t| Interpretation |\n",
    "|-------|----------------|\n",
    "| 1\t| 1 to 2 existing credits |\n",
    "| 2\t| 3 to 4 existing credits |\n",
    "| 3\t| 5 to 6 existing credits |\n",
    "| 4\t| More than 6 existing credits |"
   ]
  },
  {
   "cell_type": "code",
   "execution_count": 19,
   "metadata": {},
   "outputs": [
    {
     "data": {
      "text/plain": [
       "array([0, 1], dtype=int64)"
      ]
     },
     "execution_count": 19,
     "metadata": {},
     "output_type": "execute_result"
    }
   ],
   "source": [
    "credit_df['status'].unique()"
   ]
  },
  {
   "cell_type": "markdown",
   "metadata": {},
   "source": [
    "| value | Interpretation |\n",
    "|---|---|\n",
    "| 0 | Good credit standing (paid off loan) |\n",
    "| 1 | Bad credit standing (loan defaulted) |"
   ]
  },
  {
   "cell_type": "code",
   "execution_count": 20,
   "metadata": {},
   "outputs": [
    {
     "data": {
      "text/plain": [
       "Index(['checkin_acc', 'duration', 'credit_history', 'amount', 'savings_acc',\n",
       "       'present_emp_since', 'inst_rate', 'personal_status', 'residing_since',\n",
       "       'age', 'inst_plans', 'num_credits', 'job', 'status'],\n",
       "      dtype='object')"
      ]
     },
     "execution_count": 20,
     "metadata": {},
     "output_type": "execute_result"
    }
   ],
   "source": [
    "credit_df.columns"
   ]
  },
  {
   "cell_type": "code",
   "execution_count": 21,
   "metadata": {},
   "outputs": [
    {
     "data": {
      "image/png": "[encoded data removed]",
      "text/plain": [
       "<Figure size 800x800 with 1 Axes>"
      ]
     },
     "metadata": {},
     "output_type": "display_data"
    }
   ],
   "source": [
    "# Plotting the pie chart\n",
    "plt.figure(figsize=(8, 8))\n",
    "plt.pie(credit_df['status'].value_counts(), labels=['Good credit', 'Defaulted'], autopct='%1.1f%%', startangle=90, colors=['lightgreen','orange'])\n",
    "plt.title('Distribution of Credit Status')\n",
    "plt.show()"
   ]
  },
  {
   "cell_type": "markdown",
   "metadata": {},
   "source": [
    "The output displays that there are 700 observations of good credit and 300 observations of bad credit."
   ]
  },
  {
   "cell_type": "markdown",
   "metadata": {},
   "source": [
    "For building a classification model, the status column will be used as the dependent variable, while\n",
    "the remaining columns will be independent variables or features. We will create a list named X_features and store the names of all independent variables for future use."
   ]
  },
  {
   "cell_type": "code",
   "execution_count": 22,
   "metadata": {},
   "outputs": [
    {
     "data": {
      "text/plain": [
       "Index(['checkin_acc', 'duration', 'credit_history', 'amount', 'savings_acc',\n",
       "       'present_emp_since', 'inst_rate', 'personal_status', 'residing_since',\n",
       "       'age', 'inst_plans', 'num_credits', 'job', 'status'],\n",
       "      dtype='object')"
      ]
     },
     "execution_count": 22,
     "metadata": {},
     "output_type": "execute_result"
    }
   ],
   "source": [
    "credit_df.columns"
   ]
  },
  {
   "cell_type": "code",
   "execution_count": 23,
   "metadata": {},
   "outputs": [
    {
     "data": {
      "text/html": [
       "<div>\n",
       "<style scoped>\n",
       "    .dataframe tbody tr th:only-of-type {\n",
       "        vertical-align: middle;\n",
       "    }\n",
       "\n",
       "    .dataframe tbody tr th {\n",
       "        vertical-align: top;\n",
       "    }\n",
       "\n",
       "    .dataframe thead th {\n",
       "        text-align: right;\n",
       "    }\n",
       "</style>\n",
       "<table border=\"1\" class=\"dataframe\">\n",
       "  <thead>\n",
       "    <tr style=\"text-align: right;\">\n",
       "      <th></th>\n",
       "      <th>checkin_acc</th>\n",
       "      <th>duration</th>\n",
       "      <th>credit_history</th>\n",
       "      <th>amount</th>\n",
       "      <th>savings_acc</th>\n",
       "      <th>present_emp_since</th>\n",
       "      <th>inst_rate</th>\n",
       "      <th>personal_status</th>\n",
       "      <th>residing_since</th>\n",
       "      <th>age</th>\n",
       "      <th>inst_plans</th>\n",
       "      <th>num_credits</th>\n",
       "      <th>job</th>\n",
       "    </tr>\n",
       "  </thead>\n",
       "  <tbody>\n",
       "    <tr>\n",
       "      <th>0</th>\n",
       "      <td>A11</td>\n",
       "      <td>6</td>\n",
       "      <td>A34</td>\n",
       "      <td>1169</td>\n",
       "      <td>A65</td>\n",
       "      <td>A75</td>\n",
       "      <td>4</td>\n",
       "      <td>A93</td>\n",
       "      <td>4</td>\n",
       "      <td>67</td>\n",
       "      <td>A143</td>\n",
       "      <td>2</td>\n",
       "      <td>A173</td>\n",
       "    </tr>\n",
       "    <tr>\n",
       "      <th>1</th>\n",
       "      <td>A12</td>\n",
       "      <td>48</td>\n",
       "      <td>A32</td>\n",
       "      <td>5951</td>\n",
       "      <td>A61</td>\n",
       "      <td>A73</td>\n",
       "      <td>2</td>\n",
       "      <td>A92</td>\n",
       "      <td>2</td>\n",
       "      <td>22</td>\n",
       "      <td>A143</td>\n",
       "      <td>1</td>\n",
       "      <td>A173</td>\n",
       "    </tr>\n",
       "    <tr>\n",
       "      <th>2</th>\n",
       "      <td>A14</td>\n",
       "      <td>12</td>\n",
       "      <td>A34</td>\n",
       "      <td>2096</td>\n",
       "      <td>A61</td>\n",
       "      <td>A74</td>\n",
       "      <td>2</td>\n",
       "      <td>A93</td>\n",
       "      <td>3</td>\n",
       "      <td>49</td>\n",
       "      <td>A143</td>\n",
       "      <td>1</td>\n",
       "      <td>A172</td>\n",
       "    </tr>\n",
       "    <tr>\n",
       "      <th>3</th>\n",
       "      <td>A11</td>\n",
       "      <td>42</td>\n",
       "      <td>A32</td>\n",
       "      <td>7882</td>\n",
       "      <td>A61</td>\n",
       "      <td>A74</td>\n",
       "      <td>2</td>\n",
       "      <td>A93</td>\n",
       "      <td>4</td>\n",
       "      <td>45</td>\n",
       "      <td>A143</td>\n",
       "      <td>1</td>\n",
       "      <td>A173</td>\n",
       "    </tr>\n",
       "    <tr>\n",
       "      <th>4</th>\n",
       "      <td>A11</td>\n",
       "      <td>24</td>\n",
       "      <td>A33</td>\n",
       "      <td>4870</td>\n",
       "      <td>A61</td>\n",
       "      <td>A73</td>\n",
       "      <td>3</td>\n",
       "      <td>A93</td>\n",
       "      <td>4</td>\n",
       "      <td>53</td>\n",
       "      <td>A143</td>\n",
       "      <td>2</td>\n",
       "      <td>A173</td>\n",
       "    </tr>\n",
       "    <tr>\n",
       "      <th>...</th>\n",
       "      <td>...</td>\n",
       "      <td>...</td>\n",
       "      <td>...</td>\n",
       "      <td>...</td>\n",
       "      <td>...</td>\n",
       "      <td>...</td>\n",
       "      <td>...</td>\n",
       "      <td>...</td>\n",
       "      <td>...</td>\n",
       "      <td>...</td>\n",
       "      <td>...</td>\n",
       "      <td>...</td>\n",
       "      <td>...</td>\n",
       "    </tr>\n",
       "    <tr>\n",
       "      <th>995</th>\n",
       "      <td>A14</td>\n",
       "      <td>12</td>\n",
       "      <td>A32</td>\n",
       "      <td>1736</td>\n",
       "      <td>A61</td>\n",
       "      <td>A74</td>\n",
       "      <td>3</td>\n",
       "      <td>A92</td>\n",
       "      <td>4</td>\n",
       "      <td>31</td>\n",
       "      <td>A143</td>\n",
       "      <td>1</td>\n",
       "      <td>A172</td>\n",
       "    </tr>\n",
       "    <tr>\n",
       "      <th>996</th>\n",
       "      <td>A11</td>\n",
       "      <td>30</td>\n",
       "      <td>A32</td>\n",
       "      <td>3857</td>\n",
       "      <td>A61</td>\n",
       "      <td>A73</td>\n",
       "      <td>4</td>\n",
       "      <td>A91</td>\n",
       "      <td>4</td>\n",
       "      <td>40</td>\n",
       "      <td>A143</td>\n",
       "      <td>1</td>\n",
       "      <td>A174</td>\n",
       "    </tr>\n",
       "    <tr>\n",
       "      <th>997</th>\n",
       "      <td>A14</td>\n",
       "      <td>12</td>\n",
       "      <td>A32</td>\n",
       "      <td>804</td>\n",
       "      <td>A61</td>\n",
       "      <td>A75</td>\n",
       "      <td>4</td>\n",
       "      <td>A93</td>\n",
       "      <td>4</td>\n",
       "      <td>38</td>\n",
       "      <td>A143</td>\n",
       "      <td>1</td>\n",
       "      <td>A173</td>\n",
       "    </tr>\n",
       "    <tr>\n",
       "      <th>998</th>\n",
       "      <td>A11</td>\n",
       "      <td>45</td>\n",
       "      <td>A32</td>\n",
       "      <td>1845</td>\n",
       "      <td>A61</td>\n",
       "      <td>A73</td>\n",
       "      <td>4</td>\n",
       "      <td>A93</td>\n",
       "      <td>4</td>\n",
       "      <td>23</td>\n",
       "      <td>A143</td>\n",
       "      <td>1</td>\n",
       "      <td>A173</td>\n",
       "    </tr>\n",
       "    <tr>\n",
       "      <th>999</th>\n",
       "      <td>A12</td>\n",
       "      <td>45</td>\n",
       "      <td>A34</td>\n",
       "      <td>4576</td>\n",
       "      <td>A62</td>\n",
       "      <td>A71</td>\n",
       "      <td>3</td>\n",
       "      <td>A93</td>\n",
       "      <td>4</td>\n",
       "      <td>27</td>\n",
       "      <td>A143</td>\n",
       "      <td>1</td>\n",
       "      <td>A173</td>\n",
       "    </tr>\n",
       "  </tbody>\n",
       "</table>\n",
       "<p>1000 rows × 13 columns</p>\n",
       "</div>"
      ],
      "text/plain": [
       "    checkin_acc  duration credit_history  amount savings_acc  \\\n",
       "0           A11         6            A34    1169         A65   \n",
       "1           A12        48            A32    5951         A61   \n",
       "2           A14        12            A34    2096         A61   \n",
       "3           A11        42            A32    7882         A61   \n",
       "4           A11        24            A33    4870         A61   \n",
       "..          ...       ...            ...     ...         ...   \n",
       "995         A14        12            A32    1736         A61   \n",
       "996         A11        30            A32    3857         A61   \n",
       "997         A14        12            A32     804         A61   \n",
       "998         A11        45            A32    1845         A61   \n",
       "999         A12        45            A34    4576         A62   \n",
       "\n",
       "    present_emp_since  inst_rate personal_status  residing_since  age  \\\n",
       "0                 A75          4             A93               4   67   \n",
       "1                 A73          2             A92               2   22   \n",
       "2                 A74          2             A93               3   49   \n",
       "3                 A74          2             A93               4   45   \n",
       "4                 A73          3             A93               4   53   \n",
       "..                ...        ...             ...             ...  ...   \n",
       "995               A74          3             A92               4   31   \n",
       "996               A73          4             A91               4   40   \n",
       "997               A75          4             A93               4   38   \n",
       "998               A73          4             A93               4   23   \n",
       "999               A71          3             A93               4   27   \n",
       "\n",
       "    inst_plans  num_credits   job  \n",
       "0         A143            2  A173  \n",
       "1         A143            1  A173  \n",
       "2         A143            1  A172  \n",
       "3         A143            1  A173  \n",
       "4         A143            2  A173  \n",
       "..         ...          ...   ...  \n",
       "995       A143            1  A172  \n",
       "996       A143            1  A174  \n",
       "997       A143            1  A173  \n",
       "998       A143            1  A173  \n",
       "999       A143            1  A173  \n",
       "\n",
       "[1000 rows x 13 columns]"
      ]
     },
     "execution_count": 23,
     "metadata": {},
     "output_type": "execute_result"
    }
   ],
   "source": [
    "X_features = credit_df.iloc[:, :-1]\n",
    "\n",
    "X_features"
   ]
  },
  {
   "cell_type": "code",
   "execution_count": 24,
   "metadata": {},
   "outputs": [],
   "source": [
    "features_list = credit_df.columns[:-1].tolist()"
   ]
  },
  {
   "cell_type": "markdown",
   "metadata": {},
   "source": [
    "- **Encoding Categorical Features**\n",
    "  Qualitative variables or categorical variables need to be encoded using `dummy variables` before incorporating them in the regression model. If a categorical variable has `n` categories (e.g., the player role in the data has four categories, namely, batsman, bowler, wicket-keeper and allrounder), then we will need `n − 1` dummy variables. So, in the case of PLAYING ROLE, we will need three dummy variables since there are four categories"
   ]
  },
  {
   "cell_type": "markdown",
   "metadata": {},
   "source": [
    "**Dummy variables:** Let's take a example\n",
    "\n",
    "| PLAYER  | PLAYING ROLE  |\n",
    "|---------|---------------|\n",
    "| Player1 | Batsman       |\n",
    "| Player2 | Bowler        |\n",
    "| Player3 | All-Rounder   |\n",
    "\n",
    "\n",
    "Dummy variables:\n",
    "\n",
    "| PLAYER  | Batsman | Bowler | All-Rounder |\n",
    "|---------|---------|--------|-------------|\n",
    "| Player1 | 1       | 0      | 0           |\n",
    "| Player2 | 0       | 1      | 0           |\n",
    "| Player3 | 0       | 0      | 1           |\n"
   ]
  },
  {
   "cell_type": "code",
   "execution_count": 25,
   "metadata": {},
   "outputs": [],
   "source": [
    "encoded_credit_df = pd.get_dummies(credit_df[features_list], drop_first=True).astype(int)"
   ]
  },
  {
   "cell_type": "code",
   "execution_count": 26,
   "metadata": {},
   "outputs": [
    {
     "data": {
      "text/html": [
       "<div>\n",
       "<style scoped>\n",
       "    .dataframe tbody tr th:only-of-type {\n",
       "        vertical-align: middle;\n",
       "    }\n",
       "\n",
       "    .dataframe tbody tr th {\n",
       "        vertical-align: top;\n",
       "    }\n",
       "\n",
       "    .dataframe thead th {\n",
       "        text-align: right;\n",
       "    }\n",
       "</style>\n",
       "<table border=\"1\" class=\"dataframe\">\n",
       "  <thead>\n",
       "    <tr style=\"text-align: right;\">\n",
       "      <th></th>\n",
       "      <th>duration</th>\n",
       "      <th>amount</th>\n",
       "      <th>inst_rate</th>\n",
       "      <th>residing_since</th>\n",
       "      <th>age</th>\n",
       "      <th>num_credits</th>\n",
       "      <th>checkin_acc_A12</th>\n",
       "      <th>checkin_acc_A13</th>\n",
       "      <th>checkin_acc_A14</th>\n",
       "      <th>credit_history_A31</th>\n",
       "      <th>...</th>\n",
       "      <th>present_emp_since_A74</th>\n",
       "      <th>present_emp_since_A75</th>\n",
       "      <th>personal_status_A92</th>\n",
       "      <th>personal_status_A93</th>\n",
       "      <th>personal_status_A94</th>\n",
       "      <th>inst_plans_A142</th>\n",
       "      <th>inst_plans_A143</th>\n",
       "      <th>job_A172</th>\n",
       "      <th>job_A173</th>\n",
       "      <th>job_A174</th>\n",
       "    </tr>\n",
       "  </thead>\n",
       "  <tbody>\n",
       "    <tr>\n",
       "      <th>0</th>\n",
       "      <td>6</td>\n",
       "      <td>1169</td>\n",
       "      <td>4</td>\n",
       "      <td>4</td>\n",
       "      <td>67</td>\n",
       "      <td>2</td>\n",
       "      <td>0</td>\n",
       "      <td>0</td>\n",
       "      <td>0</td>\n",
       "      <td>0</td>\n",
       "      <td>...</td>\n",
       "      <td>0</td>\n",
       "      <td>1</td>\n",
       "      <td>0</td>\n",
       "      <td>1</td>\n",
       "      <td>0</td>\n",
       "      <td>0</td>\n",
       "      <td>1</td>\n",
       "      <td>0</td>\n",
       "      <td>1</td>\n",
       "      <td>0</td>\n",
       "    </tr>\n",
       "    <tr>\n",
       "      <th>1</th>\n",
       "      <td>48</td>\n",
       "      <td>5951</td>\n",
       "      <td>2</td>\n",
       "      <td>2</td>\n",
       "      <td>22</td>\n",
       "      <td>1</td>\n",
       "      <td>1</td>\n",
       "      <td>0</td>\n",
       "      <td>0</td>\n",
       "      <td>0</td>\n",
       "      <td>...</td>\n",
       "      <td>0</td>\n",
       "      <td>0</td>\n",
       "      <td>1</td>\n",
       "      <td>0</td>\n",
       "      <td>0</td>\n",
       "      <td>0</td>\n",
       "      <td>1</td>\n",
       "      <td>0</td>\n",
       "      <td>1</td>\n",
       "      <td>0</td>\n",
       "    </tr>\n",
       "    <tr>\n",
       "      <th>2</th>\n",
       "      <td>12</td>\n",
       "      <td>2096</td>\n",
       "      <td>2</td>\n",
       "      <td>3</td>\n",
       "      <td>49</td>\n",
       "      <td>1</td>\n",
       "      <td>0</td>\n",
       "      <td>0</td>\n",
       "      <td>1</td>\n",
       "      <td>0</td>\n",
       "      <td>...</td>\n",
       "      <td>1</td>\n",
       "      <td>0</td>\n",
       "      <td>0</td>\n",
       "      <td>1</td>\n",
       "      <td>0</td>\n",
       "      <td>0</td>\n",
       "      <td>1</td>\n",
       "      <td>1</td>\n",
       "      <td>0</td>\n",
       "      <td>0</td>\n",
       "    </tr>\n",
       "    <tr>\n",
       "      <th>3</th>\n",
       "      <td>42</td>\n",
       "      <td>7882</td>\n",
       "      <td>2</td>\n",
       "      <td>4</td>\n",
       "      <td>45</td>\n",
       "      <td>1</td>\n",
       "      <td>0</td>\n",
       "      <td>0</td>\n",
       "      <td>0</td>\n",
       "      <td>0</td>\n",
       "      <td>...</td>\n",
       "      <td>1</td>\n",
       "      <td>0</td>\n",
       "      <td>0</td>\n",
       "      <td>1</td>\n",
       "      <td>0</td>\n",
       "      <td>0</td>\n",
       "      <td>1</td>\n",
       "      <td>0</td>\n",
       "      <td>1</td>\n",
       "      <td>0</td>\n",
       "    </tr>\n",
       "    <tr>\n",
       "      <th>4</th>\n",
       "      <td>24</td>\n",
       "      <td>4870</td>\n",
       "      <td>3</td>\n",
       "      <td>4</td>\n",
       "      <td>53</td>\n",
       "      <td>2</td>\n",
       "      <td>0</td>\n",
       "      <td>0</td>\n",
       "      <td>0</td>\n",
       "      <td>0</td>\n",
       "      <td>...</td>\n",
       "      <td>0</td>\n",
       "      <td>0</td>\n",
       "      <td>0</td>\n",
       "      <td>1</td>\n",
       "      <td>0</td>\n",
       "      <td>0</td>\n",
       "      <td>1</td>\n",
       "      <td>0</td>\n",
       "      <td>1</td>\n",
       "      <td>0</td>\n",
       "    </tr>\n",
       "  </tbody>\n",
       "</table>\n",
       "<p>5 rows × 29 columns</p>\n",
       "</div>"
      ],
      "text/plain": [
       "   duration  amount  inst_rate  residing_since  age  num_credits  \\\n",
       "0         6    1169          4               4   67            2   \n",
       "1        48    5951          2               2   22            1   \n",
       "2        12    2096          2               3   49            1   \n",
       "3        42    7882          2               4   45            1   \n",
       "4        24    4870          3               4   53            2   \n",
       "\n",
       "   checkin_acc_A12  checkin_acc_A13  checkin_acc_A14  credit_history_A31  ...  \\\n",
       "0                0                0                0                   0  ...   \n",
       "1                1                0                0                   0  ...   \n",
       "2                0                0                1                   0  ...   \n",
       "3                0                0                0                   0  ...   \n",
       "4                0                0                0                   0  ...   \n",
       "\n",
       "   present_emp_since_A74  present_emp_since_A75  personal_status_A92  \\\n",
       "0                      0                      1                    0   \n",
       "1                      0                      0                    1   \n",
       "2                      1                      0                    0   \n",
       "3                      1                      0                    0   \n",
       "4                      0                      0                    0   \n",
       "\n",
       "   personal_status_A93  personal_status_A94  inst_plans_A142  inst_plans_A143  \\\n",
       "0                    1                    0                0                1   \n",
       "1                    0                    0                0                1   \n",
       "2                    1                    0                0                1   \n",
       "3                    1                    0                0                1   \n",
       "4                    1                    0                0                1   \n",
       "\n",
       "   job_A172  job_A173  job_A174  \n",
       "0         0         1         0  \n",
       "1         0         1         0  \n",
       "2         1         0         0  \n",
       "3         0         1         0  \n",
       "4         0         1         0  \n",
       "\n",
       "[5 rows x 29 columns]"
      ]
     },
     "execution_count": 26,
     "metadata": {},
     "output_type": "execute_result"
    }
   ],
   "source": [
    "encoded_credit_df.head()"
   ]
  },
  {
   "cell_type": "markdown",
   "metadata": {},
   "source": [
    "Displaying the dummy features to verify how they are encoded."
   ]
  },
  {
   "cell_type": "code",
   "execution_count": 27,
   "metadata": {},
   "outputs": [
    {
     "data": {
      "text/html": [
       "<div>\n",
       "<style scoped>\n",
       "    .dataframe tbody tr th:only-of-type {\n",
       "        vertical-align: middle;\n",
       "    }\n",
       "\n",
       "    .dataframe tbody tr th {\n",
       "        vertical-align: top;\n",
       "    }\n",
       "\n",
       "    .dataframe thead th {\n",
       "        text-align: right;\n",
       "    }\n",
       "</style>\n",
       "<table border=\"1\" class=\"dataframe\">\n",
       "  <thead>\n",
       "    <tr style=\"text-align: right;\">\n",
       "      <th></th>\n",
       "      <th>checkin_acc_A12</th>\n",
       "      <th>checkin_acc_A13</th>\n",
       "      <th>checkin_acc_A14</th>\n",
       "    </tr>\n",
       "  </thead>\n",
       "  <tbody>\n",
       "    <tr>\n",
       "      <th>0</th>\n",
       "      <td>0</td>\n",
       "      <td>0</td>\n",
       "      <td>0</td>\n",
       "    </tr>\n",
       "    <tr>\n",
       "      <th>1</th>\n",
       "      <td>1</td>\n",
       "      <td>0</td>\n",
       "      <td>0</td>\n",
       "    </tr>\n",
       "    <tr>\n",
       "      <th>2</th>\n",
       "      <td>0</td>\n",
       "      <td>0</td>\n",
       "      <td>1</td>\n",
       "    </tr>\n",
       "    <tr>\n",
       "      <th>3</th>\n",
       "      <td>0</td>\n",
       "      <td>0</td>\n",
       "      <td>0</td>\n",
       "    </tr>\n",
       "    <tr>\n",
       "      <th>4</th>\n",
       "      <td>0</td>\n",
       "      <td>0</td>\n",
       "      <td>0</td>\n",
       "    </tr>\n",
       "  </tbody>\n",
       "</table>\n",
       "</div>"
      ],
      "text/plain": [
       "   checkin_acc_A12  checkin_acc_A13  checkin_acc_A14\n",
       "0                0                0                0\n",
       "1                1                0                0\n",
       "2                0                0                1\n",
       "3                0                0                0\n",
       "4                0                0                0"
      ]
     },
     "execution_count": 27,
     "metadata": {},
     "output_type": "execute_result"
    }
   ],
   "source": [
    "encoded_credit_df[['checkin_acc_A12', 'checkin_acc_A13', 'checkin_acc_A14']].head()"
   ]
  },
  {
   "cell_type": "markdown",
   "metadata": {},
   "source": [
    "The first record has all the dummy variable values set to 0, indicating it is checkin account type `checkin_acc_A11`, which is the base category. The account type in second observation is `checkin_acc_A12`, so on."
   ]
  },
  {
   "cell_type": "markdown",
   "metadata": {},
   "source": [
    "- **Creating feature X and outcome y variables:**"
   ]
  },
  {
   "cell_type": "code",
   "execution_count": 28,
   "metadata": {},
   "outputs": [],
   "source": [
    "import statsmodels.api as sm \n",
    "X = sm.add_constant(encoded_credit_df)\n",
    "y = credit_df.status"
   ]
  },
  {
   "cell_type": "code",
   "execution_count": 29,
   "metadata": {},
   "outputs": [],
   "source": [
    "from sklearn.model_selection import train_test_split\n",
    "X_train, X_test, y_train, y_test = train_test_split(X, y, test_size=0.3, random_state=42)"
   ]
  },
  {
   "cell_type": "code",
   "execution_count": 30,
   "metadata": {},
   "outputs": [
    {
     "name": "stdout",
     "output_type": "stream",
     "text": [
      "Accuracy: 0.76\n",
      "Confusion Matrix:\n",
      "[[128  13]\n",
      " [ 35  24]]\n"
     ]
    }
   ],
   "source": [
    "import pandas as pd\n",
    "from sklearn.model_selection import train_test_split\n",
    "from sklearn.linear_model import LogisticRegression\n",
    "from sklearn.preprocessing import LabelEncoder\n",
    "from sklearn.metrics import accuracy_score, confusion_matrix\n",
    "\n",
    "# Assuming 'credit_df' is your DataFrame\n",
    "# Encode categorical variables if needed\n",
    "le = LabelEncoder()\n",
    "categorical_columns = ['checkin_acc', 'credit_history', 'savings_acc', 'present_emp_since', 'personal_status', 'inst_plans', 'job', 'status']\n",
    "for col in categorical_columns:\n",
    "    credit_df[col] = le.fit_transform(credit_df[col])\n",
    "\n",
    "# Define features and target variable\n",
    "X = credit_df.drop('status', axis=1)\n",
    "y = credit_df['status']\n",
    "\n",
    "# Split the data into training and testing sets\n",
    "X_train, X_test, y_train, y_test = train_test_split(X, y, test_size=0.2, random_state=42)\n",
    "\n",
    "# Initialize the logistic regression model\n",
    "model = LogisticRegression()\n",
    "\n",
    "# Fit the model to the training data\n",
    "model.fit(X_train, y_train)\n",
    "\n",
    "# Make predictions on the test set\n",
    "predictions = model.predict(X_test)\n",
    "\n",
    "# Evaluate the model\n",
    "accuracy = accuracy_score(y_test, predictions)\n",
    "conf_matrix = confusion_matrix(y_test, predictions)\n",
    "\n",
    "print(f\"Accuracy: {accuracy}\")\n",
    "print(\"Confusion Matrix:\")\n",
    "print(conf_matrix)\n"
   ]
  },
  {
   "cell_type": "code",
   "execution_count": 68,
   "metadata": {},
   "outputs": [
    {
     "name": "stdout",
     "output_type": "stream",
     "text": [
      "True Mean: 4.79, True Standard Deviation: 1.81\n",
      "MLE Estimated Mean: 4.79, MLE Estimated Standard Deviation: 1.81\n"
     ]
    }
   ],
   "source": [
    "import numpy as np\n",
    "from scipy.stats import norm\n",
    "from scipy.optimize import minimize\n",
    "\n",
    "# Generate some example data from a normal distribution\n",
    "np.random.seed(42)\n",
    "data = np.random.normal(loc=5, scale=2, size=100)\n",
    "\n",
    "# Define the likelihood function for a normal distribution\n",
    "def likelihood(params, data):\n",
    "    mu, sigma = params\n",
    "    log_likelihood = -np.sum(norm.logpdf(data, loc=mu, scale=sigma))\n",
    "    return log_likelihood\n",
    "\n",
    "# MLE estimation using optimization\n",
    "initial_guess = [np.mean(data), np.std(data)]  # Starting with sample mean and standard deviation\n",
    "result = minimize(likelihood, initial_guess, args=(data,), method='L-BFGS-B')\n",
    "\n",
    "# Extract the estimated parameters\n",
    "mu_mle, sigma_mle = result.x\n",
    "\n",
    "# Display the results\n",
    "print(f\"True Mean: {np.mean(data):.2f}, True Standard Deviation: {np.std(data):.2f}\")\n",
    "print(f\"MLE Estimated Mean: {mu_mle:.2f}, MLE Estimated Standard Deviation: {sigma_mle:.2f}\")\n"
   ]
  },
  {
   "cell_type": "code",
   "execution_count": 70,
   "metadata": {},
   "outputs": [
    {
     "name": "stdout",
     "output_type": "stream",
     "text": [
      "Gradient Descent: theta = [1.24193681 1.57545992]\n"
     ]
    }
   ],
   "source": [
    "import numpy as np\n",
    "\n",
    "# Example data and model\n",
    "X = np.random.rand(100, 1)\n",
    "y = 2 * X + 1 + 0.1 * np.random.randn(100, 1)\n",
    "\n",
    "# Add a column of ones to X for the intercept term\n",
    "X_b = np.c_[np.ones((100, 1)), X]\n",
    "\n",
    "# Gradient Descent\n",
    "learning_rate = 0.01\n",
    "num_iterations = 1000\n",
    "theta = np.random.randn(2, 1)\n",
    "\n",
    "for iteration in range(num_iterations):\n",
    "    gradients = 2 / len(X) * X_b.T.dot(X_b.dot(theta) - y)\n",
    "    theta = theta - learning_rate * gradients\n",
    "\n",
    "# Display result\n",
    "print(\"Gradient Descent: theta =\", theta.ravel())\n"
   ]
  },
  {
   "cell_type": "code",
   "execution_count": 71,
   "metadata": {},
   "outputs": [
    {
     "name": "stdout",
     "output_type": "stream",
     "text": [
      "True Mean: 2.73, True Standard Deviation: 1.96\n",
      "MLE Estimated Mean: 2.73, MLE Estimated Standard Deviation: 1.96\n"
     ]
    }
   ],
   "source": [
    "import numpy as np\n",
    "from scipy.stats import norm\n",
    "from scipy.optimize import minimize\n",
    "\n",
    "# Example data\n",
    "data = np.random.normal(loc=3, scale=2, size=100)\n",
    "\n",
    "# Likelihood function for normal distribution\n",
    "def likelihood(params, data):\n",
    "    mu, sigma = params\n",
    "    log_likelihood = -np.sum(norm.logpdf(data, loc=mu, scale=sigma))\n",
    "    return log_likelihood\n",
    "\n",
    "# MLE estimation using optimization\n",
    "initial_guess = [np.mean(data), np.std(data)]\n",
    "result = minimize(likelihood, initial_guess, args=(data,), method='L-BFGS-B')\n",
    "\n",
    "# Extract the estimated parameters\n",
    "mu_mle, sigma_mle = result.x\n",
    "\n",
    "# Display results\n",
    "print(f\"True Mean: {np.mean(data):.2f}, True Standard Deviation: {np.std(data):.2f}\")\n",
    "print(f\"MLE Estimated Mean: {mu_mle:.2f}, MLE Estimated Standard Deviation: {sigma_mle:.2f}\")\n"
   ]
  },
  {
   "cell_type": "code",
   "execution_count": null,
   "metadata": {},
   "outputs": [],
   "source": []
  }
 ],
 "metadata": {
  "kernelspec": {
   "display_name": "Python 3",
   "language": "python",
   "name": "python3"
  },
  "language_info": {
   "codemirror_mode": {
    "name": "ipython",
    "version": 3
   },
   "file_extension": ".py",
   "mimetype": "text/x-python",
   "name": "python",
   "nbconvert_exporter": "python",
   "pygments_lexer": "ipython3",
   "version": "3.12.0"
  }
 },
 "nbformat": 4,
 "nbformat_minor": 2
}
