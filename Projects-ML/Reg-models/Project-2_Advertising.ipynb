{
 "cells": [
  {
   "cell_type": "markdown",
   "metadata": {},
   "source": [
    "# Chapter-6: Advanced Machine learning\n",
    "\n",
    "**How Machine learn?**\n",
    "  - In supervised learning, the algorithm learns using a function called loss function, cost function or error function, which is a function of predicted output and the desired output. \n",
    "  - If $h(X_i)$ is the predicted output and $y_i$ is the desired output, then the Loss function is defined as\n",
    "    $$L = \\frac{1}{n}\\sum_{i=1}^n [y_i-h(X_i)]^2$$\n",
    "    where $n$ is the total number of records for which the predictions are made. The function defined above is also known as sum of squared error (SSE). SSE is the loss function for a regression model. \n",
    "  - The objective is to learn the values of parameters (aka feature weights) that minimize the cost function. Machine learning uses optimization algorithms which can be used for minimizing the loss function. Most widely used optimization technique is called the Gradient Descent.\n",
    "**Gradient decent algorithm:**\n",
    "  - Descent is an iterative optimization algorithm used to find the minimum of a function. It's commonly used in machine learning for training models, particularly in the context of linear regression, logistic regression, and neural networks. \n",
    "  - The cost function for the linear regression model is: \n",
    "    $$\\text{MSE} = \\frac{1}{n} \\sum_{i=1}^n (y_i - \\hat{y}_i)^2$$\n",
    "    where the predicted values of $y_i$ i.e. $h_i$ is represented as $\\hat{y}_i = \\hat{\\beta}_0 + \\hat{\\beta}_1 X_i$\n",
    "  - The error is a function of $\\beta_0$ and $\\beta_1$.\n",
    "\n",
    "  \n",
    "\n",
    "  <figure style=\"text-align: center;\">\n",
    "    <img src=\"cost-fun.png\" alt=\"Cost function\" width=\"90%\">\n",
    "    <figcaption><strong>Cost function</strong></figcaption>\n",
    "</figure>\n",
    "\n",
    "  It is a pure convex function and has a global minimum as shown above. The gradient decent algoritm starts at a random starting value (for $\\beta_0$ and $\\beta_1$) and moves towards the optimal solution.\n",
    "\n",
    "  Following steps are used to find the optimal values of the two coefficients that minimize the loss functions:\n",
    "  1. Randomly guess the intiial values of $\\beta_0$ (bias or intercept) and $\\beta_1$ (feature weight). \n",
    "  2. Calculate the estimated value of the outcome variable ($\\hat{y}_i$) for the initialized values of bias and weights. \n",
    "  3. Calculate the mean square error function (MSE).\n",
    "  4. Adjust the $\\beta_0$ and $\\beta_1$ values by calculating the gradients of the error function.\n",
    "  \n",
    "  $$\\beta_0 = \\beta_0 - \\alpha \\times \\frac{\\partial \\text{MSE}}{\\partial \\beta_0}$$\n",
    "  \n",
    "  and \n",
    "  \n",
    "  $$\\beta_1 = \\beta_1 - \\alpha \\times \\frac{\\partial \\text{MSE}}{\\partial \\beta_1}$$\n",
    "\n",
    "  where $\\alpha$ is the learning rate (a hyperparameter). The value of this parameter is chosen based on the magnitude of update needed to be applied to the bias and weight at each iteration.\n",
    "   \n",
    "  5. Repeat steps 1 to 4 for several iterations until the error stops reducing further or the change in\n",
    "cost is infinitesimally small."
   ]
  },
  {
   "cell_type": "markdown",
   "metadata": {},
   "source": [
    "- **Loading important libraries:**"
   ]
  },
  {
   "cell_type": "code",
   "execution_count": null,
   "metadata": {},
   "outputs": [],
   "source": [
    "import numpy as np\n",
    "import pandas as pd\n",
    "import seaborn as sns\n",
    "import statsmodels.api as sm\n",
    "import matplotlib.pyplot as plt"
   ]
  },
  {
   "cell_type": "code",
   "execution_count": null,
   "metadata": {},
   "outputs": [],
   "source": [
    "import warnings\n",
    "warnings.filterwarnings('ignore')"
   ]
  },
  {
   "cell_type": "markdown",
   "metadata": {},
   "source": [
    "- **Loading the dataset:**\n",
    "  The dataset contains the examples of advertisement spends across multiple channels such as Radio, TV, and Newspaper, and the corresponding sales revenue generated at different time periods. The dataset is taken from a chapter in the book titled “Introduction to Statistical Learning” by James et al. (2013). The dataset has the following elements:\n",
    "  1. TV – Spend on TV advertisements\n",
    "  2. Radio – Spend on radio advertisements\n",
    "  3. Newspaper – Spend on newspaper advertisements\n",
    "  4. Sales – Sales revenue generated"
   ]
  },
  {
   "cell_type": "code",
   "execution_count": null,
   "metadata": {},
   "outputs": [],
   "source": [
    "sales_df =pd.read_csv('Advertising.csv')\n",
    "sales_df.head()"
   ]
  },
  {
   "cell_type": "code",
   "execution_count": null,
   "metadata": {},
   "outputs": [],
   "source": [
    "sales_df = sales_df.drop(columns=['Unnamed: 0'], axis=1)\n",
    "sales_df.head()"
   ]
  },
  {
   "cell_type": "markdown",
   "metadata": {},
   "source": [
    "- **Set X and Y Variables**"
   ]
  },
  {
   "cell_type": "code",
   "execution_count": null,
   "metadata": {},
   "outputs": [],
   "source": [
    "X = sales_df.iloc[:, :-1]\n",
    "y = sales_df.iloc[:, -1]"
   ]
  },
  {
   "cell_type": "code",
   "execution_count": null,
   "metadata": {},
   "outputs": [],
   "source": [
    "X.head()"
   ]
  },
  {
   "cell_type": "code",
   "execution_count": null,
   "metadata": {},
   "outputs": [],
   "source": [
    "y.head()"
   ]
  },
  {
   "cell_type": "markdown",
   "metadata": {},
   "source": [
    "- **Standardize X and y**\n",
    "  here we have used following formula:\n",
    "\n",
    "  $$ X_{\\text{normalized}} = \\frac{X - \\bar{X}}{\\sigma_X}$$\n",
    "\n",
    "  and \n",
    "\n",
    "  $$ y_{\\text{normalized}} = \\frac{y - \\bar{y}}{\\sigma_y}$$\n",
    "\n",
    "  where \n",
    "  - X are the feature data points\n",
    "  - y depedent variable data points\n",
    "  - All variables with bar represnts the mean value and $\\sigma$ represent the standard deviation."
   ]
  },
  {
   "cell_type": "code",
   "execution_count": null,
   "metadata": {},
   "outputs": [],
   "source": [
    "y = np.array((y-y.mean())/y.std())\n",
    "X = X.apply(lambda x: (x - x.mean())/x.std(), axis = 0)"
   ]
  },
  {
   "cell_type": "code",
   "execution_count": null,
   "metadata": {},
   "outputs": [],
   "source": [
    "X.head()"
   ]
  },
  {
   "cell_type": "markdown",
   "metadata": {},
   "source": [
    "- **Implementing the Gradient Descent Algorithm** \n",
    "  Here we will now implement the gradient decent method to find the coefficients. This is done through the optimization of cost function for the model. This is done in following methods:\n",
    "  1. **Method 1** Method to randomly initialize the bias and weights.\n",
    "  2. **Method 2** Method to calculate the predicted value of $\\hat{y}$, that is, $\\hat{y}$ given the bias and weights.\n",
    "  3. **Method 3** Method to calculate the cost function from predicted and actual values of $\\hat{y}$.\n",
    "  4. **Method 4** Method to calculate the gradients and adjust the bias and weights."
   ]
  },
  {
   "cell_type": "markdown",
   "metadata": {},
   "source": [
    "**Method-1** Random Initialization of the Bias and Weights\n",
    "\n",
    "The method randomly initializes the bias and weights. It takes the number of weights that need to be\n",
    "initialized as a parameter."
   ]
  },
  {
   "cell_type": "code",
   "execution_count": null,
   "metadata": {},
   "outputs": [],
   "source": [
    "import random\n",
    "\n",
    "# dim - is the number of weights to be initialized besides the bias\n",
    "def initialize(dim):\n",
    "    # For reproducible results, the seed it set to 42.\n",
    "    np.random.seed(seed=42)\n",
    "    random.seed(42)\n",
    "    \n",
    "    # Initialize the bias.\n",
    "    b = random.random()\n",
    "    \n",
    "    # Initialize the weights.\n",
    "    w = np.random.rand(dim)\n",
    "    \n",
    "    return b, w"
   ]
  },
  {
   "cell_type": "markdown",
   "metadata": {},
   "source": [
    "Simce we have three input variables: 'TV', 'Radio', 'Newspaper', we can invoke the initialize() method as follows:"
   ]
  },
  {
   "cell_type": "code",
   "execution_count": null,
   "metadata": {},
   "outputs": [],
   "source": [
    "b, w = initialize( 3 )\n",
    "print( \"Bias:\", b, \"Weights: \", w )"
   ]
  },
  {
   "cell_type": "markdown",
   "metadata": {},
   "source": [
    "**Method 2:** Predict Y Values from the Bias and Weights\n",
    "\n",
    "Calculate the Y values for all the inputs, given the bias and weights. We will use matrix ultiplication of weights with input variable values. matmul() method in numpy library can be used for matrix multiplication. Each row of X can be multiplied with the weights column to produce the predicted outcome variable."
   ]
  },
  {
   "cell_type": "markdown",
   "metadata": {},
   "source": [
    "predicted y = $\\beta_0 + X \\times \\beta_1$"
   ]
  },
  {
   "cell_type": "code",
   "execution_count": null,
   "metadata": {},
   "outputs": [],
   "source": [
    "# Inputs:\n",
    "# b - bias\n",
    "# w - weights\n",
    "# X - the input matrix\n",
    "\n",
    "def predict_Y( b, w, X ):\n",
    "    return b + np.matmul( X, w )"
   ]
  },
  {
   "cell_type": "code",
   "execution_count": null,
   "metadata": {},
   "outputs": [],
   "source": [
    "b, w = initialize( 3 )\n",
    "y_hat = predict_Y( b, w, X)\n",
    "y_hat[0:10]"
   ]
  },
  {
   "cell_type": "markdown",
   "metadata": {},
   "source": [
    "**Method 3:** Calculate the Cost Function — MSE\n",
    "\n",
    "Compute mean squared error (MSE) by\n",
    "1. Calculating differences between the estimated $\\hat{y}$ and actual y.\n",
    "2. Calculating the square of the above residuals, and sum over all records.\n",
    "3. Dividing it with the number of observations."
   ]
  },
  {
   "cell_type": "code",
   "execution_count": null,
   "metadata": {},
   "outputs": [],
   "source": [
    "import math\n",
    "\n",
    "# Inputs\n",
    "# y - Actual values of y\n",
    "# y_hat - predicted value of y\n",
    "\n",
    "def get_cost( y, y_hat ):\n",
    "    # Calculating the residuals - difference between actual and predicted values\n",
    "    y_resid = y - y_hat\n",
    "    # Matrix multiplication with self will give the square values\n",
    "    # Then take the sum and divide by number of examples to\n",
    "    # calculate mean\n",
    "    return np.sum( np.matmul( y_resid.T, y_resid ) ) / len( y_resid)"
   ]
  },
  {
   "cell_type": "markdown",
   "metadata": {},
   "source": [
    "Invoking `get_cost()` after initializing the bias and weights and calculating predicted values for outcome variable."
   ]
  },
  {
   "cell_type": "code",
   "execution_count": null,
   "metadata": {},
   "outputs": [],
   "source": [
    "b, w = initialize(3)\n",
    "y_hat =  predict_Y(b,w,X)\n",
    "get_cost(y, y_hat) # cost function value"
   ]
  },
  {
   "cell_type": "markdown",
   "metadata": {},
   "source": [
    "**Method 4:** Update the Bias and Weights\n",
    "\n",
    "The bias and weights will be updated in a method update_beta() using:\n",
    "\n",
    "$$\\beta_0 = \\beta_0 - \\alpha \\times \\frac{\\partial \\text{MSE}}{\\partial \\beta_0}$$\n",
    "  \n",
    "  and \n",
    "  \n",
    "  $$\\beta_1 = \\beta_1 - \\alpha \\times \\frac{\\partial \\text{MSE}}{\\partial \\beta_1}$$\n",
    "\n",
    "  The parameters passed to the function are:\n",
    "  1. X,y: the input and output variables.\n",
    "  2. $\\hat{y}$: predicted value with current bias and weights.\n",
    "  3. $b_0$, $w_0$: current bias and weights\n",
    "  4. learning rate: learning rate to adjust the update step.\n",
    "  \n",
    "  Here \n",
    "\n",
    "  $\\frac{\\partial \\text{MSE}}{\\partial \\beta_0} = -\\frac{2}{n}\\sum_{i=1}^n (y_i - \\hat{y}_i)$\n",
    "  \n",
    "  $\\frac{\\partial \\text{MSE}}{\\partial \\beta_1} = -\\frac{2}{n}\\sum_{i=1}^n (y_i - \\hat{y}_i)\\times X_i$"
   ]
  },
  {
   "cell_type": "code",
   "execution_count": null,
   "metadata": {},
   "outputs": [],
   "source": [
    "def update_beta( x, y, y_hat, b_0, w_0, learning_rate ):\n",
    "    # gradient wrt to bias\n",
    "    db = (np.sum( y_hat - y ) * 2) / len(y)\n",
    "    #gradient wrt to weights\n",
    "    dw = (np.dot( ( y_hat - y ), x ) * 2 ) / len(y)\n",
    "    #update bias\n",
    "    b_1 = b_0 - learning_rate * db\n",
    "    #update beta\n",
    "    w_1 = w_0 - learning_rate * dw\n",
    "    #return the new bias and beta values\n",
    "    return b_1, w_1"
   ]
  },
  {
   "cell_type": "markdown",
   "metadata": {},
   "source": [
    "for $\\alpha = 0.01$:"
   ]
  },
  {
   "cell_type": "code",
   "execution_count": null,
   "metadata": {},
   "outputs": [],
   "source": [
    "b,w = initialize(3)\n",
    "print(f\"After initialization - Bias: {b}, and weights: {w}\")\n",
    "\n",
    "y_hat = predict_Y(b,w,X)\n",
    "b,w = update_beta(X, y,y_hat, b,w, 0.01)\n",
    "print(f\"After first update -Bias: {b}, and weights: {w}\")"
   ]
  },
  {
   "cell_type": "markdown",
   "metadata": {},
   "source": [
    "The updates to the bias and weights need to be done iteratively, until the cost is minimum. It can take\n",
    "several iterations and is time-consuming. There are two approaches to stop the iterations:\n",
    "1. Run a fixed number of iterations and use the bias and weights as optimal values at the end these\n",
    "iterations.\n",
    "2. Run iterations until the change in cost is small, that is, less than a predefined value (e.g., 0.001).\n",
    "\n",
    "We will define a method `run_gradient_descent()`, which takes `alpha` and `num_iterations` as parameters\n",
    "and invokes methods like `initialize()`, `predict_Y()`, `get_cost()`, and `update_beta()`."
   ]
  },
  {
   "cell_type": "code",
   "execution_count": null,
   "metadata": {},
   "outputs": [],
   "source": [
    "import pandas as pd\n",
    "\n",
    "def run_gradient_descent(X, y, alpha=0.01, num_iterations=100):\n",
    "    # Initialize the bias and weights\n",
    "    b, w = initialize(X.shape[1])\n",
    "\n",
    "    iter_num = 0\n",
    "    \n",
    "    # gd_iterations_df keeps track of the cost every 10 iterations\n",
    "    gd_iterations_df = pd.DataFrame(columns=['iteration', 'cost'], dtype=float)  # Specify dtype for columns\n",
    "    \n",
    "    result_idx = 0\n",
    "    \n",
    "    # Run the iterations in loop\n",
    "    for each_iter in range(num_iterations):\n",
    "        # Calculate predicted value of y\n",
    "        y_hat = predict_Y(b, w, X)\n",
    "        # Calculate the cost\n",
    "        this_cost = get_cost(y, y_hat)  \n",
    "        # Save the previous bias and weights\n",
    "        prev_b = b\n",
    "        prev_w = w\n",
    "        # Update and calculate the new values of bias and weights\n",
    "        b, w = update_beta(X, y, y_hat, prev_b, prev_w, alpha)  \n",
    "        # For every 10 iterations, store the cost i.e. MSE\n",
    "        if iter_num % 10 == 0:\n",
    "            gd_iterations_df.loc[result_idx] = [iter_num, this_cost]\n",
    "            result_idx += 1\n",
    "        iter_num += 1\n",
    "    print(\"Final estimate of b and w:\", b, w)\n",
    "    # return the final bias, weights, and the cost at the end\n",
    "    return gd_iterations_df, b, w"
   ]
  },
  {
   "cell_type": "markdown",
   "metadata": {},
   "source": [
    "- variable `gd_iterations_df` keeps track of the cost every 10 iterations.\n",
    "- default value of 0.01 for the learning parameter and 100 for number of iterations will be used."
   ]
  },
  {
   "cell_type": "code",
   "execution_count": null,
   "metadata": {},
   "outputs": [],
   "source": [
    "X.shape[1]"
   ]
  },
  {
   "cell_type": "code",
   "execution_count": null,
   "metadata": {},
   "outputs": [],
   "source": [
    "gd_iterations_df, b, w = run_gradient_descent( X, y, alpha = 0.001, num_iterations = 200 )"
   ]
  },
  {
   "cell_type": "code",
   "execution_count": null,
   "metadata": {},
   "outputs": [],
   "source": [
    "gd_iterations_df"
   ]
  },
  {
   "cell_type": "code",
   "execution_count": null,
   "metadata": {},
   "outputs": [],
   "source": [
    "plt.plot(gd_iterations_df['iteration'], gd_iterations_df['cost'])\n",
    "plt.xlabel('Iteration')\n",
    "plt.ylabel('Cost (MSE)')\n",
    "plt.title('Gradient Descent Cost vs. Iteration')\n",
    "plt.show()"
   ]
  },
  {
   "cell_type": "code",
   "execution_count": null,
   "metadata": {},
   "outputs": [],
   "source": [
    "alpha_df_1, b, w =run_gradient_descent(X, y, alpha =0.01, num_iterations=2000)"
   ]
  },
  {
   "cell_type": "code",
   "execution_count": null,
   "metadata": {},
   "outputs": [],
   "source": [
    "alpha_df_2, b, w =run_gradient_descent(X, y, alpha =0.001, num_iterations=2000)"
   ]
  },
  {
   "cell_type": "code",
   "execution_count": null,
   "metadata": {},
   "outputs": [],
   "source": [
    "plt.plot(alpha_df_1['iteration'],alpha_df_1['cost'], label= \"alpha = 0.01\")\n",
    "plt.plot(alpha_df_2['iteration'],alpha_df_2['cost'], label= \"alpha = 0.001\")\n",
    "plt.xlabel('Iterations')\n",
    "plt.ylabel('Cost')\n",
    "plt.legend()\n",
    "plt.show()"
   ]
  },
  {
   "cell_type": "markdown",
   "metadata": {},
   "source": [
    "The plot shows that the learning is faster for alpha value 0.01 compared to 0.001. For smaller\n",
    "values, the learning could be slower whereas higher learning rate could lead to skipping the minima of\n",
    "cost function. It is imperative to search for the optimal learning parameter."
   ]
  },
  {
   "cell_type": "markdown",
   "metadata": {},
   "source": [
    "### **SCIKIT-LEARN LIBRARY FOR MACHINE LEARNING**\n",
    "\n",
    "Scikit-learn provides a comprehensive set of algorithms for the following kind of problems:\n",
    "1. Regression\n",
    "2. Classification\n",
    "3. Clustering\n",
    "\n",
    "#### Steps for Building Machine Learning Models\n",
    "\n",
    "The steps to be followed for building, validating a machine learning model and measuring its accuracy\n",
    "are as follows:\n",
    "1. Identify the features and outcome variable in the dataset.\n",
    "2. Split the dataset into training and test sets.\n",
    "3. Build the model using training set.\n",
    "4. Predict outcome variable using a test set.\n",
    "5. Compare the predicted and actual values of the outcome variable in the test set and measure\n",
    "accuracy using measures such as mean absolute percentage error (MAPE) or root mean square\n",
    "error (RMSE)."
   ]
  },
  {
   "cell_type": "markdown",
   "metadata": {},
   "source": [
    "- **Step-1:** Splitting the dataset into train and test datasets"
   ]
  },
  {
   "cell_type": "code",
   "execution_count": null,
   "metadata": {},
   "outputs": [],
   "source": [
    "sales_df.head()"
   ]
  },
  {
   "cell_type": "code",
   "execution_count": null,
   "metadata": {},
   "outputs": [],
   "source": [
    "X = sales_df[['TV', 'Radio', 'Newspaper']]\n",
    "y = sales_df.Sales"
   ]
  },
  {
   "cell_type": "code",
   "execution_count": null,
   "metadata": {},
   "outputs": [],
   "source": [
    "from sklearn.model_selection import train_test_split\n",
    "X_train, X_test, y_train, y_test = train_test_split(X, y, test_size=0.3,random_state = 42)"
   ]
  },
  {
   "cell_type": "markdown",
   "metadata": {},
   "source": [
    "Here dataset is split into train and test in 70:30 ratio. "
   ]
  },
  {
   "cell_type": "code",
   "execution_count": null,
   "metadata": {},
   "outputs": [],
   "source": [
    "sales_df.shape"
   ]
  },
  {
   "cell_type": "code",
   "execution_count": null,
   "metadata": {},
   "outputs": [],
   "source": [
    "print(f'Length of the taining dataset: {len(X_train)}')\n",
    "print(f'Length of the test dataset: {len(X_test)}')"
   ]
  },
  {
   "cell_type": "markdown",
   "metadata": {},
   "source": [
    "- **Building Linear Regression Model with Train Dataset**\n",
    "  Linear models are included in `sklearn.linear_model` module. We will use `LinearRegression` method for\n",
    "building the model and compare with the results we obtained through our own implementation of gradient\n",
    "descent algorithm.\n",
    "  - Intializeing the model\n",
    "  - Invoke `fit()` method on the model and pass the input (X) and output (y) values.\n",
    "  - `fit()` will run the algorithm and return the final estimated model parameters."
   ]
  },
  {
   "cell_type": "code",
   "execution_count": null,
   "metadata": {},
   "outputs": [],
   "source": [
    "from sklearn.linear_model import LinearRegression\n",
    "# Initializing the model\n",
    "linreg = LinearRegression()\n",
    "# Fitting training data to the model\n",
    "linreg.fit( X_train, y_train )"
   ]
  },
  {
   "cell_type": "markdown",
   "metadata": {},
   "source": [
    "- Intercept (bias) = `linreg.intercept_`\n",
    "- Coefficients (weights) = `linreg.coef_`"
   ]
  },
  {
   "cell_type": "code",
   "execution_count": null,
   "metadata": {},
   "outputs": [],
   "source": [
    "print(f'The intercept is {linreg.intercept_}')\n",
    "print(f'The weights are {linreg.coef_}')"
   ]
  },
  {
   "cell_type": "code",
   "execution_count": null,
   "metadata": {},
   "outputs": [],
   "source": [
    "list(zip( ['TV', 'Radio', 'Newspaper'], list( linreg.coef_ ) ) )"
   ]
  },
  {
   "cell_type": "markdown",
   "metadata": {},
   "source": [
    "Therefore the estimated model is:\n",
    "\n",
    "`Sales = 2.7089 + 0.0441 x TV + 0.1993 x Radio + 0.0069 x Newspaper`\n",
    "\n",
    "The model indicates that for every unit change in TV spending, there is an increase of 0.044 units in sales revenue."
   ]
  },
  {
   "cell_type": "markdown",
   "metadata": {},
   "source": [
    "- **Making Prediction on Test Set**\n",
    "  sklearn provides `predict()` method for all ML models, which takes the `X` values and predicts the outcome variable `y` as shown in the following code:"
   ]
  },
  {
   "cell_type": "code",
   "execution_count": null,
   "metadata": {},
   "outputs": [],
   "source": [
    "#Predicting the y value from the test set\n",
    "y_pred = linreg.predict( X_test )"
   ]
  },
  {
   "cell_type": "markdown",
   "metadata": {},
   "source": [
    "To compare the actual and predicted values of the outcome variable and the residuals, we will create and\n",
    "store these values in a DataFrame. The residual here refers to the difference between the actual and the\n",
    "predicted values."
   ]
  },
  {
   "cell_type": "code",
   "execution_count": null,
   "metadata": {},
   "outputs": [],
   "source": [
    "# Creating DataFrame with 3 columns named: actual, predicted and residuals to store the respective values\n",
    "test_pred_df = pd.DataFrame( { 'actual': y_test, \n",
    "                              'predicted': np.round( y_pred, 2 ), #rounding each element in that array to two decimal places.\n",
    "                              'residuals': y_test - y_pred } )"
   ]
  },
  {
   "cell_type": "code",
   "execution_count": null,
   "metadata": {},
   "outputs": [],
   "source": [
    "# Randomly showing the 10 observations from the DataFrame\n",
    "test_pred_df.sample(10)"
   ]
  },
  {
   "cell_type": "markdown",
   "metadata": {},
   "source": [
    "**Scatter Plot: Actual vs. Predicted:** This plot helps you visualize how well your model's predictions align with the actual values. Ideally, points should fall along a diagonal line."
   ]
  },
  {
   "cell_type": "code",
   "execution_count": null,
   "metadata": {},
   "outputs": [],
   "source": [
    "plt.scatter(test_pred_df['actual'], test_pred_df['predicted'], c=test_pred_df['residuals'], cmap='viridis')\n",
    "plt.colorbar(label='Residuals')\n",
    "plt.xlabel('Actual Values')\n",
    "plt.ylabel('Predicted Values')\n",
    "plt.title('Scatter Plot: Actual vs. Predicted with Residuals Color Map')\n",
    "plt.show()"
   ]
  },
  {
   "cell_type": "markdown",
   "metadata": {},
   "source": [
    "**Residuals Distribution Plot:** This plot shows the distribution of residuals."
   ]
  },
  {
   "cell_type": "code",
   "execution_count": null,
   "metadata": {},
   "outputs": [],
   "source": [
    "sns.histplot(test_pred_df['residuals'], kde=True)\n",
    "plt.xlabel('Residuals')\n",
    "plt.ylabel('Frequency')\n",
    "plt.title('Distribution of Residuals')\n",
    "plt.show()"
   ]
  },
  {
   "cell_type": "markdown",
   "metadata": {},
   "source": [
    "**Residuals vs. Predicted Values Plot:** This plot helps you identify patterns or trends in residuals concerning predicted values. A random spread around the zero line is desirable."
   ]
  },
  {
   "cell_type": "code",
   "execution_count": null,
   "metadata": {},
   "outputs": [],
   "source": [
    "plt.scatter(test_pred_df['actual'], test_pred_df['residuals'], color='b', label= 'Actual data points')\n",
    "plt.scatter(test_pred_df['predicted'], test_pred_df['residuals'], color='r', label= 'Predicted data points')\n",
    "plt.axhline(y=0, color='r', linestyle='--', label='Zero Residuals Line')\n",
    "plt.xlabel('Values')\n",
    "plt.ylabel('Residuals')\n",
    "plt.title('Residuals vs. Actual Values')\n",
    "plt.legend()\n",
    "plt.show()\n"
   ]
  },
  {
   "cell_type": "markdown",
   "metadata": {},
   "source": [
    "**Outliers:**"
   ]
  },
  {
   "cell_type": "code",
   "execution_count": null,
   "metadata": {},
   "outputs": [],
   "source": [
    "sns.boxplot(x=test_pred_df['residuals'])\n",
    "plt.xlabel('Residuals')\n",
    "plt.title('Box Plot of Residuals')\n",
    "plt.show()"
   ]
  },
  {
   "cell_type": "markdown",
   "metadata": {},
   "source": [
    "This box plot helps you identify the presence of outliers in the distribution of residuals. Outliers are represented as points beyond the \"whiskers\" of the box plot"
   ]
  },
  {
   "cell_type": "code",
   "execution_count": null,
   "metadata": {},
   "outputs": [],
   "source": [
    "sns.violinplot(x=test_pred_df['residuals'])\n",
    "plt.xlabel('Residuals')\n",
    "plt.title('Violin Plot of Residuals')\n",
    "plt.show()"
   ]
  },
  {
   "cell_type": "markdown",
   "metadata": {},
   "source": [
    "A violin plot combines aspects of a box plot and a kernel density plot. It provides a richer view of the distribution, including the shape and density of the residuals."
   ]
  },
  {
   "cell_type": "markdown",
   "metadata": {},
   "source": [
    "### Measuring Accuracy \n",
    "Root Mean Square Error (RMSE) and R-squared are two key accuracy measures for Linear Regression\n",
    "Models. `sklearn.metrics` package provides methods to measure various metrics. For regression models,\n",
    "`mean_squared_error` and `r2_score` can be used to calculate MSE and R-squared values, respectively."
   ]
  },
  {
   "cell_type": "markdown",
   "metadata": {},
   "source": [
    "1. **Calculating the R-squared value**\n",
    "    $R^2 = 1- \\frac{SSR}{SST}$\n",
    "\n",
    "    where\n",
    "    - SSR = $\\sum (y_{\\text{pred}} - y)^2$\n",
    "    - SSt = $\\sum (y - y_\\text{mean})^2$"
   ]
  },
  {
   "cell_type": "code",
   "execution_count": null,
   "metadata": {},
   "outputs": [],
   "source": [
    "## Importing metrics from sklearn\n",
    "from sklearn import metrics\n",
    "# y_train contains the actual value and the predicted value is \n",
    "# returned from predict() method after passing the X values of the training data.\n",
    "r2 = metrics.r2_score( y_test, y_pred )\n",
    "print('R Squared for the test dataset: ', r2)"
   ]
  },
  {
   "cell_type": "markdown",
   "metadata": {},
   "source": [
    "The model explains 86% of the variance in y. We can also check with the train dataset:\n"
   ]
  },
  {
   "cell_type": "code",
   "execution_count": null,
   "metadata": {},
   "outputs": [],
   "source": [
    "r2 = metrics.r2_score( y_train, linreg.predict(X_train) )\n",
    "print('R Squared for the training dataset: ', r2)"
   ]
  },
  {
   "cell_type": "markdown",
   "metadata": {},
   "source": [
    "2. **Calculating RMSE** `metrics.mean_squared_error()` takes actual and predicted values and returns MSE: \n",
    "   MSE = $ \\frac{1}{n} \\sum (y - y_\\text{pred})^2$"
   ]
  },
  {
   "cell_type": "code",
   "execution_count": null,
   "metadata": {},
   "outputs": [],
   "source": [
    "# y_pred contains predicted value of test data\n",
    "mse = metrics.mean_squared_error( y_test, y_pred )\n",
    "# Taking square root of MSE and then round off to two decimal values\n",
    "rmse = round( np.sqrt(mse), 2 )\n",
    "print('RMSE: ', rmse)"
   ]
  },
  {
   "cell_type": "markdown",
   "metadata": {},
   "source": [
    "Therefore on average, the model's predictions deviate from the actual values by approximately 1.95 units"
   ]
  },
  {
   "cell_type": "markdown",
   "metadata": {},
   "source": [
    "To understand the model error in detail, we need to understand the components of the error term\n",
    "and how to deal with those components for improving model performance. In the next section, we will\n",
    "discuss these components in detail."
   ]
  },
  {
   "cell_type": "markdown",
   "metadata": {},
   "source": [
    "### Bias-Variance Trade-off \n",
    "Model errors can be decomposed into two components: \n",
    "   - bias and \n",
    "   - variance.\n",
    "        \n",
    "   Understanding these two components is key to diagnosing model accuracies and avoiding model overfitting or underfitting. High bias can lead to building underfitting model, whereas high variance can lead to overfitting models.\n",
    "\n",
    "   TO understand the concept, let's take another example with dataset `curve.csv`."
   ]
  },
  {
   "cell_type": "code",
   "execution_count": 112,
   "metadata": {},
   "outputs": [
    {
     "data": {
      "text/html": [
       "<div>\n",
       "<style scoped>\n",
       "    .dataframe tbody tr th:only-of-type {\n",
       "        vertical-align: middle;\n",
       "    }\n",
       "\n",
       "    .dataframe tbody tr th {\n",
       "        vertical-align: top;\n",
       "    }\n",
       "\n",
       "    .dataframe thead th {\n",
       "        text-align: right;\n",
       "    }\n",
       "</style>\n",
       "<table border=\"1\" class=\"dataframe\">\n",
       "  <thead>\n",
       "    <tr style=\"text-align: right;\">\n",
       "      <th></th>\n",
       "      <th>x</th>\n",
       "      <th>y</th>\n",
       "    </tr>\n",
       "  </thead>\n",
       "  <tbody>\n",
       "    <tr>\n",
       "      <th>0</th>\n",
       "      <td>2</td>\n",
       "      <td>-1.999618</td>\n",
       "    </tr>\n",
       "    <tr>\n",
       "      <th>1</th>\n",
       "      <td>2</td>\n",
       "      <td>-1.999618</td>\n",
       "    </tr>\n",
       "    <tr>\n",
       "      <th>2</th>\n",
       "      <td>8</td>\n",
       "      <td>-3.978312</td>\n",
       "    </tr>\n",
       "    <tr>\n",
       "      <th>3</th>\n",
       "      <td>9</td>\n",
       "      <td>-1.969175</td>\n",
       "    </tr>\n",
       "    <tr>\n",
       "      <th>4</th>\n",
       "      <td>10</td>\n",
       "      <td>-0.957770</td>\n",
       "    </tr>\n",
       "  </tbody>\n",
       "</table>\n",
       "</div>"
      ],
      "text/plain": [
       "    x         y\n",
       "0   2 -1.999618\n",
       "1   2 -1.999618\n",
       "2   8 -3.978312\n",
       "3   9 -1.969175\n",
       "4  10 -0.957770"
      ]
     },
     "execution_count": 112,
     "metadata": {},
     "output_type": "execute_result"
    }
   ],
   "source": [
    "# Reading the file curve.csv and printing first few examples\n",
    "curve = pd.read_csv( 'curve.csv' )\n",
    "curve.head()"
   ]
  },
  {
   "cell_type": "code",
   "execution_count": 113,
   "metadata": {},
   "outputs": [
    {
     "data": {
      "image/png": "[encoded data removed]",
      "text/plain": [
       "<Figure size 640x480 with 1 Axes>"
      ]
     },
     "metadata": {},
     "output_type": "display_data"
    }
   ],
   "source": [
    "plt.scatter( curve.x, curve.y );\n",
    "plt.xlabel('x values')\n",
    "plt.ylabel('y values')\n",
    "plt.title('Scattered plot between x and y')\n",
    "plt.show()"
   ]
  },
  {
   "cell_type": "markdown",
   "metadata": {},
   "source": [
    "It can be observed from this figure that the relation between y and x is not linear and looks like some\n",
    "polynomial. But we are not sure of the degree of the polynomial form. We need to try various polynomial\n",
    "forms of x and verify which model fits the data best."
   ]
  },
  {
   "cell_type": "markdown",
   "metadata": {},
   "source": [
    "To explore various polynomial forms, `polyfit()` from `numpy` library can be used. `polyfit()` takes X and Y values, and the degree of x features to be used to fit a model. \n",
    "- Degree 1 means only value of x is used to predict y, whereas \n",
    "- degree 2 means $x_1$ and $x_2$ are used to predict y."
   ]
  },
  {
   "cell_type": "code",
   "execution_count": 128,
   "metadata": {},
   "outputs": [],
   "source": [
    "def fit_poly_and_plot(df, n):\n",
    "    x = df['x']\n",
    "    y = df['y']\n",
    "    \n",
    "    # Fit polynomial\n",
    "    coefficients = np.polyfit(x, y, n)\n",
    "    fitted_curve = np.poly1d(coefficients)\n",
    "\n",
    "    # Scatter plot\n",
    "    plt.scatter(x, y, label='Scattered Data', color ='b')\n",
    "\n",
    "    # Fitted curve plot    \n",
    "    plt.plot(x, fitted_curve(x), color='r', label=f'Fitted Curve (Degree {n})')\n",
    "\n",
    "    # Add labels and legend\n",
    "    plt.xlabel('x')\n",
    "    plt.ylabel('y')\n",
    "    plt.legend()\n",
    "\n",
    "    # Show the plot\n",
    "    plt.show()\n",
    "\n",
    "    return fitted_curve"
   ]
  },
  {
   "cell_type": "code",
   "execution_count": 129,
   "metadata": {},
   "outputs": [
    {
     "data": {
      "image/png": "[encoded data removed]",
      "text/plain": [
       "<Figure size 640x480 with 1 Axes>"
      ]
     },
     "metadata": {},
     "output_type": "display_data"
    },
    {
     "data": {
      "text/plain": [
       "poly1d([  0.43870242, -10.44634844])"
      ]
     },
     "execution_count": 129,
     "metadata": {},
     "output_type": "execute_result"
    }
   ],
   "source": [
    "fit_poly_and_plot(curve,1)"
   ]
  },
  {
   "cell_type": "code",
   "execution_count": 132,
   "metadata": {},
   "outputs": [
    {
     "data": {
      "image/png": "[encoded data removed]",
      "text/plain": [
       "<Figure size 640x480 with 1 Axes>"
      ]
     },
     "metadata": {},
     "output_type": "display_data"
    },
    {
     "data": {
      "text/plain": [
       "poly1d([ 0.00618721, -0.20989619,  0.5251575 ])"
      ]
     },
     "execution_count": 132,
     "metadata": {},
     "output_type": "execute_result"
    }
   ],
   "source": [
    "fit_poly_and_plot(curve,2)"
   ]
  },
  {
   "cell_type": "code",
   "execution_count": 133,
   "metadata": {},
   "outputs": [
    {
     "data": {
      "image/png": "[encoded data removed]",
      "text/plain": [
       "<Figure size 640x480 with 1 Axes>"
      ]
     },
     "metadata": {},
     "output_type": "display_data"
    },
    {
     "data": {
      "text/plain": [
       "poly1d([-7.40536556e-17, -8.69257043e-14,  4.88818644e-11, -1.00203629e-08,\n",
       "        1.09151781e-06, -7.01432681e-05,  2.72431220e-03, -6.21340712e-02,\n",
       "        7.60130930e-01, -3.95063528e+00,  3.26890330e+00])"
      ]
     },
     "execution_count": 133,
     "metadata": {},
     "output_type": "execute_result"
    }
   ],
   "source": [
    "fit_poly_and_plot(curve,10)"
   ]
  },
  {
   "cell_type": "markdown",
   "metadata": {},
   "source": []
  },
  {
   "cell_type": "code",
   "execution_count": 137,
   "metadata": {},
   "outputs": [
    {
     "data": {
      "text/html": [
       "<div>\n",
       "<style scoped>\n",
       "    .dataframe tbody tr th:only-of-type {\n",
       "        vertical-align: middle;\n",
       "    }\n",
       "\n",
       "    .dataframe tbody tr th {\n",
       "        vertical-align: top;\n",
       "    }\n",
       "\n",
       "    .dataframe thead th {\n",
       "        text-align: right;\n",
       "    }\n",
       "</style>\n",
       "<table border=\"1\" class=\"dataframe\">\n",
       "  <thead>\n",
       "    <tr style=\"text-align: right;\">\n",
       "      <th></th>\n",
       "      <th>degree</th>\n",
       "      <th>rmse_train</th>\n",
       "      <th>rmse_test</th>\n",
       "    </tr>\n",
       "  </thead>\n",
       "  <tbody>\n",
       "    <tr>\n",
       "      <th>0</th>\n",
       "      <td>1</td>\n",
       "      <td>5.381508</td>\n",
       "      <td>5.800512</td>\n",
       "    </tr>\n",
       "    <tr>\n",
       "      <th>1</th>\n",
       "      <td>2</td>\n",
       "      <td>2.402382</td>\n",
       "      <td>3.054582</td>\n",
       "    </tr>\n",
       "    <tr>\n",
       "      <th>2</th>\n",
       "      <td>3</td>\n",
       "      <td>2.221174</td>\n",
       "      <td>2.883015</td>\n",
       "    </tr>\n",
       "    <tr>\n",
       "      <th>3</th>\n",
       "      <td>4</td>\n",
       "      <td>2.220116</td>\n",
       "      <td>2.912914</td>\n",
       "    </tr>\n",
       "    <tr>\n",
       "      <th>4</th>\n",
       "      <td>5</td>\n",
       "      <td>2.171885</td>\n",
       "      <td>2.749130</td>\n",
       "    </tr>\n",
       "    <tr>\n",
       "      <th>5</th>\n",
       "      <td>6</td>\n",
       "      <td>2.154547</td>\n",
       "      <td>2.758178</td>\n",
       "    </tr>\n",
       "    <tr>\n",
       "      <th>6</th>\n",
       "      <td>7</td>\n",
       "      <td>2.141227</td>\n",
       "      <td>2.699172</td>\n",
       "    </tr>\n",
       "    <tr>\n",
       "      <th>7</th>\n",
       "      <td>8</td>\n",
       "      <td>2.140623</td>\n",
       "      <td>2.720162</td>\n",
       "    </tr>\n",
       "    <tr>\n",
       "      <th>8</th>\n",
       "      <td>9</td>\n",
       "      <td>2.112392</td>\n",
       "      <td>2.583999</td>\n",
       "    </tr>\n",
       "    <tr>\n",
       "      <th>9</th>\n",
       "      <td>10</td>\n",
       "      <td>2.105960</td>\n",
       "      <td>2.629010</td>\n",
       "    </tr>\n",
       "    <tr>\n",
       "      <th>10</th>\n",
       "      <td>11</td>\n",
       "      <td>2.105500</td>\n",
       "      <td>2.633546</td>\n",
       "    </tr>\n",
       "    <tr>\n",
       "      <th>11</th>\n",
       "      <td>12</td>\n",
       "      <td>2.020609</td>\n",
       "      <td>2.600429</td>\n",
       "    </tr>\n",
       "    <tr>\n",
       "      <th>12</th>\n",
       "      <td>13</td>\n",
       "      <td>2.012572</td>\n",
       "      <td>2.623519</td>\n",
       "    </tr>\n",
       "    <tr>\n",
       "      <th>13</th>\n",
       "      <td>14</td>\n",
       "      <td>1.996769</td>\n",
       "      <td>2.782671</td>\n",
       "    </tr>\n",
       "    <tr>\n",
       "      <th>14</th>\n",
       "      <td>15</td>\n",
       "      <td>1.996195</td>\n",
       "      <td>2.799947</td>\n",
       "    </tr>\n",
       "  </tbody>\n",
       "</table>\n",
       "</div>"
      ],
      "text/plain": [
       "   degree  rmse_train  rmse_test\n",
       "0       1    5.381508   5.800512\n",
       "1       2    2.402382   3.054582\n",
       "2       3    2.221174   2.883015\n",
       "3       4    2.220116   2.912914\n",
       "4       5    2.171885   2.749130\n",
       "5       6    2.154547   2.758178\n",
       "6       7    2.141227   2.699172\n",
       "7       8    2.140623   2.720162\n",
       "8       9    2.112392   2.583999\n",
       "9      10    2.105960   2.629010\n",
       "10     11    2.105500   2.633546\n",
       "11     12    2.020609   2.600429\n",
       "12     13    2.012572   2.623519\n",
       "13     14    1.996769   2.782671\n",
       "14     15    1.996195   2.799947"
      ]
     },
     "execution_count": 137,
     "metadata": {},
     "output_type": "execute_result"
    }
   ],
   "source": [
    "\n",
    "from sklearn.model_selection import train_test_split\n",
    "from sklearn.metrics import mean_squared_error\n",
    "from math import sqrt\n",
    "\n",
    "# Function to calculate RMSE for a given degree\n",
    "def calculate_rmse(df, degree):\n",
    "    x = df['x']\n",
    "    y = df['y']\n",
    "    x_train, x_test, y_train, y_test = train_test_split(x, y, test_size=0.2, random_state=42)\n",
    "\n",
    "    # Fit polynomial\n",
    "    coefficients = np.polyfit(x_train, y_train, degree)\n",
    "    fitted_curve = np.poly1d(coefficients)\n",
    "\n",
    "    # Predictions on train and test sets\n",
    "    y_train_pred = fitted_curve(x_train)\n",
    "    y_test_pred = fitted_curve(x_test)\n",
    "\n",
    "    # Calculate RMSE\n",
    "    rmse_train = sqrt(mean_squared_error(y_train, y_train_pred))\n",
    "    rmse_test = sqrt(mean_squared_error(y_test, y_test_pred))\n",
    "\n",
    "    return rmse_train, rmse_test\n",
    "\n",
    "# Create a dataframe to store results\n",
    "result_df = pd.DataFrame(columns=['degree', 'rmse_train', 'rmse_test'])\n",
    "\n",
    "# Loop through degrees 1 to 15\n",
    "for degree in range(1, 16):\n",
    "    rmse_train, rmse_test = calculate_rmse(curve, degree)\n",
    "    result_df = pd.concat([result_df, pd.DataFrame({'degree': [degree], 'rmse_train': [rmse_train], 'rmse_test': [rmse_test]})], ignore_index=True)\n",
    "\n",
    "# Print or use the result_df as needed\n",
    "result_df"
   ]
  },
  {
   "cell_type": "code",
   "execution_count": 141,
   "metadata": {},
   "outputs": [
    {
     "data": {
      "image/png": "[encoded data removed]",
      "text/plain": [
       "<Figure size 640x480 with 1 Axes>"
      ]
     },
     "metadata": {},
     "output_type": "display_data"
    }
   ],
   "source": [
    "plt.plot(result_df.degree, result_df.rmse_train, label='RMSE on Training Set', color='r')\n",
    "# Plotting the rmse for test set in green color\n",
    "plt.plot(result_df.degree, result_df.rmse_test, label='RMSE on Test Set', color='g')\n",
    "# Mention the legend\n",
    "plt.legend()\n",
    "plt.xlabel('Model Degrees')\n",
    "plt.show()"
   ]
  },
  {
   "cell_type": "markdown",
   "metadata": {},
   "source": [
    "1. Error on the test set are high for the model with complexity of degree 1 and degree 15.\n",
    "2. Error on the test set reduces initially, however increases after a specific level of complexity.\n",
    "3. Error on the training set decreases continuously.\n",
    "\n",
    "The degree can also be associated with complexity. It can be observed that as complexity (number of\n",
    "polynomial terms in the model) increases, the model starts to fit to train and test data well. But beyond a specific level of complexity (i.e., complexity level 9), the training error continues to reduce, but the test error starts to increase again. This is a point where the model starts to overfit the training set and stops generalizing. So, the optimal model complexity is 5, which has low bias and low variance."
   ]
  },
  {
   "cell_type": "code",
   "execution_count": 151,
   "metadata": {},
   "outputs": [
    {
     "data": {
      "text/html": [
       "<div>\n",
       "<style scoped>\n",
       "    .dataframe tbody tr th:only-of-type {\n",
       "        vertical-align: middle;\n",
       "    }\n",
       "\n",
       "    .dataframe tbody tr th {\n",
       "        vertical-align: top;\n",
       "    }\n",
       "\n",
       "    .dataframe thead th {\n",
       "        text-align: right;\n",
       "    }\n",
       "</style>\n",
       "<table border=\"1\" class=\"dataframe\">\n",
       "  <thead>\n",
       "    <tr style=\"text-align: right;\">\n",
       "      <th></th>\n",
       "      <th>degree</th>\n",
       "      <th>rmse_train</th>\n",
       "      <th>rmse_test</th>\n",
       "    </tr>\n",
       "  </thead>\n",
       "  <tbody>\n",
       "    <tr>\n",
       "      <th>0</th>\n",
       "      <td>1</td>\n",
       "      <td>5.381508</td>\n",
       "      <td>5.800512</td>\n",
       "    </tr>\n",
       "    <tr>\n",
       "      <th>1</th>\n",
       "      <td>2</td>\n",
       "      <td>2.402382</td>\n",
       "      <td>3.054582</td>\n",
       "    </tr>\n",
       "    <tr>\n",
       "      <th>2</th>\n",
       "      <td>3</td>\n",
       "      <td>2.221174</td>\n",
       "      <td>2.883015</td>\n",
       "    </tr>\n",
       "    <tr>\n",
       "      <th>3</th>\n",
       "      <td>4</td>\n",
       "      <td>2.220116</td>\n",
       "      <td>2.912914</td>\n",
       "    </tr>\n",
       "    <tr>\n",
       "      <th>4</th>\n",
       "      <td>5</td>\n",
       "      <td>2.171885</td>\n",
       "      <td>2.749130</td>\n",
       "    </tr>\n",
       "    <tr>\n",
       "      <th>5</th>\n",
       "      <td>6</td>\n",
       "      <td>2.154547</td>\n",
       "      <td>2.758178</td>\n",
       "    </tr>\n",
       "    <tr>\n",
       "      <th>6</th>\n",
       "      <td>7</td>\n",
       "      <td>2.141227</td>\n",
       "      <td>2.699172</td>\n",
       "    </tr>\n",
       "    <tr>\n",
       "      <th>7</th>\n",
       "      <td>8</td>\n",
       "      <td>2.140623</td>\n",
       "      <td>2.720162</td>\n",
       "    </tr>\n",
       "    <tr>\n",
       "      <th>8</th>\n",
       "      <td>9</td>\n",
       "      <td>2.112392</td>\n",
       "      <td>2.583999</td>\n",
       "    </tr>\n",
       "    <tr>\n",
       "      <th>9</th>\n",
       "      <td>10</td>\n",
       "      <td>2.105960</td>\n",
       "      <td>2.629010</td>\n",
       "    </tr>\n",
       "    <tr>\n",
       "      <th>10</th>\n",
       "      <td>11</td>\n",
       "      <td>2.105500</td>\n",
       "      <td>2.633546</td>\n",
       "    </tr>\n",
       "    <tr>\n",
       "      <th>11</th>\n",
       "      <td>12</td>\n",
       "      <td>2.020609</td>\n",
       "      <td>2.600429</td>\n",
       "    </tr>\n",
       "    <tr>\n",
       "      <th>12</th>\n",
       "      <td>13</td>\n",
       "      <td>2.012572</td>\n",
       "      <td>2.623519</td>\n",
       "    </tr>\n",
       "    <tr>\n",
       "      <th>13</th>\n",
       "      <td>14</td>\n",
       "      <td>1.996769</td>\n",
       "      <td>2.782671</td>\n",
       "    </tr>\n",
       "    <tr>\n",
       "      <th>14</th>\n",
       "      <td>15</td>\n",
       "      <td>1.996195</td>\n",
       "      <td>2.799947</td>\n",
       "    </tr>\n",
       "  </tbody>\n",
       "</table>\n",
       "</div>"
      ],
      "text/plain": [
       "   degree  rmse_train  rmse_test\n",
       "0       1    5.381508   5.800512\n",
       "1       2    2.402382   3.054582\n",
       "2       3    2.221174   2.883015\n",
       "3       4    2.220116   2.912914\n",
       "4       5    2.171885   2.749130\n",
       "5       6    2.154547   2.758178\n",
       "6       7    2.141227   2.699172\n",
       "7       8    2.140623   2.720162\n",
       "8       9    2.112392   2.583999\n",
       "9      10    2.105960   2.629010\n",
       "10     11    2.105500   2.633546\n",
       "11     12    2.020609   2.600429\n",
       "12     13    2.012572   2.623519\n",
       "13     14    1.996769   2.782671\n",
       "14     15    1.996195   2.799947"
      ]
     },
     "execution_count": 151,
     "metadata": {},
     "output_type": "execute_result"
    }
   ],
   "source": [
    "# above can also be done using:\n",
    "from sklearn.model_selection import train_test_split\n",
    "from sklearn.preprocessing import PolynomialFeatures\n",
    "from sklearn.metrics import mean_squared_error\n",
    "from math import sqrt\n",
    "\n",
    "# Function to calculate RMSE for a given degree\n",
    "def calculate_rmse(df, degree):\n",
    "    x = df['x'].values.reshape(-1, 1)\n",
    "    y = df['y']\n",
    "\n",
    "    # Create polynomial features\n",
    "    poly = PolynomialFeatures(degree=degree, include_bias = True)\n",
    "    x_poly = poly.fit_transform(x)\n",
    "\n",
    "    # Split the data\n",
    "    x_train, x_test, y_train, y_test = train_test_split(x_poly, y, test_size=0.2, random_state=42)\n",
    "\n",
    "    # Fit linear regression\n",
    "    model = LinearRegression()\n",
    "    model.fit(x_train, y_train)\n",
    "\n",
    "    # Predictions on train and test sets\n",
    "    y_train_pred = model.predict(x_train)\n",
    "    y_test_pred = model.predict(x_test)\n",
    "\n",
    "    # Calculate RMSE\n",
    "    rmse_train = sqrt(mean_squared_error(y_train, y_train_pred))\n",
    "    rmse_test = sqrt(mean_squared_error(y_test, y_test_pred))\n",
    "\n",
    "    return rmse_train, rmse_test\n",
    "\n",
    "# Print or use the result_df as needed\n",
    "result_df"
   ]
  },
  {
   "cell_type": "code",
   "execution_count": 152,
   "metadata": {},
   "outputs": [
    {
     "data": {
      "image/png": "[encoded data removed]",
      "text/plain": [
       "<Figure size 640x480 with 1 Axes>"
      ]
     },
     "metadata": {},
     "output_type": "display_data"
    }
   ],
   "source": [
    "plt.plot(result_df.degree, result_df.rmse_train, label='RMSE on Training Set', color='r')\n",
    "# Plotting the rmse for test set in green color\n",
    "plt.plot(result_df.degree, result_df.rmse_test, label='RMSE on Test Set', color='g')\n",
    "# Mention the legend\n",
    "plt.legend()\n",
    "plt.xlabel('Model Degrees')\n",
    "plt.show()"
   ]
  },
  {
   "cell_type": "markdown",
   "metadata": {},
   "source": [
    "## K-Fold Cross-Validation\n",
    "\n"
   ]
  },
  {
   "cell_type": "code",
   "execution_count": null,
   "metadata": {},
   "outputs": [],
   "source": []
  }
 ],
 "metadata": {
  "kernelspec": {
   "display_name": "Python 3",
   "language": "python",
   "name": "python3"
  },
  "language_info": {
   "codemirror_mode": {
    "name": "ipython",
    "version": 3
   },
   "file_extension": ".py",
   "mimetype": "text/x-python",
   "name": "python",
   "nbconvert_exporter": "python",
   "pygments_lexer": "ipython3",
   "version": "3.11.5"
  }
 },
 "nbformat": 4,
 "nbformat_minor": 2
}
