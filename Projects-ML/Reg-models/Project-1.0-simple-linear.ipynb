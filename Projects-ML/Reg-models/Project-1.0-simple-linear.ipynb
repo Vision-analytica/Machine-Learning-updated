{
 "cells": [
  {
   "cell_type": "code",
   "execution_count": 25,
   "metadata": {},
   "outputs": [],
   "source": [
    "import warnings\n",
    "warnings.filterwarnings('ignore')\n",
    "\n",
    "import numpy as np\n",
    "import pandas as pd\n",
    "\n",
    "import matplotlib.pylab as plt\n",
    "import seaborn as sns\n",
    "\n",
    "plt.style.use('ggplot')\n",
    "\n",
    "np.set_printoptions(precision=4, linewidth=100)"
   ]
  },
  {
   "attachments": {},
   "cell_type": "markdown",
   "metadata": {},
   "source": [
    "## Objective\n",
    "\n",
    "- We want to study the score in a exam on the basis of study time.\n",
    "\n",
    "    $y = m \\cdot x + c$\n",
    "\n",
    "- Our Data points are: ($x_i, y_i$)\n",
    "- The predicted data point for a given $x$ will be $\\hat{y}_i$.\n",
    "\n",
    "- Mean squared error function:\n",
    "\n",
    "    $E = \\frac{1}{n} \\cdot \\sum_{i=0}^n (y_i- \\hat{y}_i)^2 = \\frac{1}{n} \\cdot \\sum_{i=0}^n (y_i- (m\\cdot x_i + b))^2$\n",
    "\n",
    "- We need to calculate $m$ and $b$ by minimizing the function $E$. We can calculate the di=erivative wrt $m$ and $b$ and set it to zero.\n",
    "    \n",
    "    $\\frac{\\partial E}{\\partial m} = - \\frac{2}{n} \\cdot \\sum_{i=0}^n x_i (y_i- (m\\cdot x_i + b))$\n",
    "\n",
    "    $\\frac{\\partial E}{\\partial m} = - \\frac{1}{n} \\cdot \\sum_{i=0}^n (y_i- (m\\cdot x_i + b))$\n",
    "\n",
    "    If we want to improve $m$ and $b$ then all we need to do is  with each itteration we say take the current values of $m$ and assign it to following equations respectively:\n",
    "\n",
    "    New $m$ and new $b$ will be written in terms of current $m$ and current $b$, and the the direction of the steepest ascent $\\partial E/\\partial (a ~{\\rm or}~ m)$ as: \n",
    "    \n",
    "    $m = m -\\alpha \\cdot \\frac{\\partial E}{\\partial m}$ \n",
    "    \n",
    "    $b = m -\\alpha \\cdot \\frac{\\partial E}{\\partial b}$ \n",
    "\n",
    "    where $\\alpha$ is a learning rate and it signifies how big or how large the steps we take.  Now large is $\\alpha$, faster we get to the actual optimization but for lower $\\alpha$, the better the results is going to be. Beacuase we are paying attention to details  much more. \n"
   ]
  },
  {
   "attachments": {},
   "cell_type": "markdown",
   "metadata": {},
   "source": [
    "Generating a random dataset with a column of 'Study time' and 'Score'."
   ]
  },
  {
   "cell_type": "code",
   "execution_count": 66,
   "metadata": {},
   "outputs": [
    {
     "data": {
      "text/html": [
       "<div>\n",
       "<style scoped>\n",
       "    .dataframe tbody tr th:only-of-type {\n",
       "        vertical-align: middle;\n",
       "    }\n",
       "\n",
       "    .dataframe tbody tr th {\n",
       "        vertical-align: top;\n",
       "    }\n",
       "\n",
       "    .dataframe thead th {\n",
       "        text-align: right;\n",
       "    }\n",
       "</style>\n",
       "<table border=\"1\" class=\"dataframe\">\n",
       "  <thead>\n",
       "    <tr style=\"text-align: right;\">\n",
       "      <th></th>\n",
       "      <th>studytime</th>\n",
       "      <th>score</th>\n",
       "    </tr>\n",
       "  </thead>\n",
       "  <tbody>\n",
       "    <tr>\n",
       "      <th>0</th>\n",
       "      <td>1.810890</td>\n",
       "      <td>18.544140</td>\n",
       "    </tr>\n",
       "    <tr>\n",
       "      <th>1</th>\n",
       "      <td>3.827500</td>\n",
       "      <td>36.779964</td>\n",
       "    </tr>\n",
       "    <tr>\n",
       "      <th>2</th>\n",
       "      <td>3.061979</td>\n",
       "      <td>31.078592</td>\n",
       "    </tr>\n",
       "    <tr>\n",
       "      <th>3</th>\n",
       "      <td>2.595305</td>\n",
       "      <td>16.015202</td>\n",
       "    </tr>\n",
       "    <tr>\n",
       "      <th>4</th>\n",
       "      <td>1.046065</td>\n",
       "      <td>9.362293</td>\n",
       "    </tr>\n",
       "  </tbody>\n",
       "</table>\n",
       "</div>"
      ],
      "text/plain": [
       "   studytime      score\n",
       "0   1.810890  18.544140\n",
       "1   3.827500  36.779964\n",
       "2   3.061979  31.078592\n",
       "3   2.595305  16.015202\n",
       "4   1.046065   9.362293"
      ]
     },
     "execution_count": 66,
     "metadata": {},
     "output_type": "execute_result"
    }
   ],
   "source": [
    "# Generating the dataset for study time and score in an exam\n",
    "np.random.seed(42)\n",
    "\n",
    "study_time = np.random.uniform(low=0.5, high=4.0, size=100)\n",
    "score = 10 * study_time + np.random.normal(loc=0, scale=5, size=100)\n",
    "\n",
    "# Create a DataFrame from the generated data\n",
    "df = pd.DataFrame({'studytime': study_time, 'score': score})\n",
    "\n",
    "# Save the DataFrame to a CSV file\n",
    "df.to_csv('Study-dataset.csv', index=False)\n",
    "\n",
    "# Load the CSV file into a DataFrame\n",
    "data_df = pd.read_csv('Study-dataset.csv')\n",
    "data_df.head()\n"
   ]
  },
  {
   "cell_type": "code",
   "execution_count": 67,
   "metadata": {},
   "outputs": [
    {
     "data": {
      "image/png": "[encoded data removed]",
      "text/plain": [
       "<Figure size 640x480 with 1 Axes>"
      ]
     },
     "metadata": {},
     "output_type": "display_data"
    }
   ],
   "source": [
    "plt.scatter(data_df.studytime, data_df.score )\n",
    "plt.show()"
   ]
  },
  {
   "attachments": {},
   "cell_type": "markdown",
   "metadata": {},
   "source": [
    "Calculating the loss function and then calculating gradients and then finding m and b by optimization of the loss function:\n",
    "\n",
    "```\n",
    "def loss_function(m,b, points):\n",
    "    total_erro  = 0\n",
    "    for i in range(len(points)):\n",
    "        x = points.iloc[i].studytime\n",
    "        y = points.iloc[i].Score\n",
    "        total_error = += (y- (m*x+b))**2\n",
    "total_error / float(len(points))\n",
    "```"
   ]
  },
  {
   "cell_type": "code",
   "execution_count": 68,
   "metadata": {},
   "outputs": [
    {
     "data": {
      "text/plain": [
       "'\\ngradient_descent(m_now, b_now, points, L): This function takes the current values of slope (m_now), \\ny-intercept (b_now), a DataFrame containing the data points (points), and the learning rate (L) as input. \\nIt performs gradient descent to update the values of slope and y-intercept. This function calculates the \\ngradients of the loss function with respect to m and b for each data point and updates the values of m and b \\nusing the gradient descent update rule. Here m_gradient and b_gradient are initialized to 0.\\n'"
      ]
     },
     "execution_count": 68,
     "metadata": {},
     "output_type": "execute_result"
    }
   ],
   "source": [
    "# loss function and then minimization\n",
    "\n",
    "\n",
    "# Gradient Descent Function:\n",
    "def gradient_descent(m_now, b_now, points, L):\n",
    "    m_gradient = 0\n",
    "    b_gradient = 0\n",
    "\n",
    "    n = len(points)\n",
    "\n",
    "    for i in range(n):\n",
    "        x = points.iloc[i].studytime\n",
    "        y = points.iloc[i].score\n",
    "\n",
    "        m_gradient += - (2/n)*x*(y-(m_now*x+b_now))\n",
    "        b_gradient += - (2/n)*(y-(m_now*x+b_now))\n",
    "\n",
    "    m = m_now - m_gradient*L\n",
    "    b = b_now - b_gradient*L\n",
    "\n",
    "    return m, b\n",
    "\n",
    "'''\n",
    "gradient_descent(m_now, b_now, points, L): This function takes the current values of slope (m_now), \n",
    "y-intercept (b_now), a DataFrame containing the data points (points), and the learning rate (L) as input. \n",
    "It performs gradient descent to update the values of slope and y-intercept. This function calculates the \n",
    "gradients of the loss function with respect to m and b for each data point and updates the values of m and b \n",
    "using the gradient descent update rule. Here m_gradient and b_gradient are initialized to 0.\n",
    "'''"
   ]
  },
  {
   "cell_type": "code",
   "execution_count": 76,
   "metadata": {},
   "outputs": [
    {
     "data": {
      "text/plain": [
       "'\\nThe slope (m) and y-intercept (b) are initialized to 0. The learning rate (L) is set to 0.0001, \\nand the number of epochs (iterations) is set to 300.\\n'"
      ]
     },
     "execution_count": 76,
     "metadata": {},
     "output_type": "execute_result"
    }
   ],
   "source": [
    "# Initialization:\n",
    "m = 0\n",
    "b = 0\n",
    "L = 0.001\n",
    "epochs = 300\n",
    "\n",
    "'''\n",
    "The slope (m) and y-intercept (b) are initialized to 0. The learning rate (L) is set to 0.0001, \n",
    "and the number of epochs (iterations) is set to 300.\n",
    "'''"
   ]
  },
  {
   "cell_type": "code",
   "execution_count": 77,
   "metadata": {},
   "outputs": [
    {
     "name": "stdout",
     "output_type": "stream",
     "text": [
      "Epoch: 0\n",
      "Epoch: 10\n",
      "Epoch: 20\n",
      "Epoch: 30\n",
      "Epoch: 40\n",
      "Epoch: 50\n",
      "Epoch: 60\n",
      "Epoch: 70\n",
      "Epoch: 80\n",
      "Epoch: 90\n",
      "Epoch: 100\n",
      "Epoch: 110\n",
      "Epoch: 120\n",
      "Epoch: 130\n",
      "Epoch: 140\n",
      "Epoch: 150\n",
      "Epoch: 160\n",
      "Epoch: 170\n",
      "Epoch: 180\n",
      "Epoch: 190\n",
      "Epoch: 200\n",
      "Epoch: 210\n",
      "Epoch: 220\n",
      "Epoch: 230\n",
      "Epoch: 240\n",
      "Epoch: 250\n",
      "Epoch: 260\n",
      "Epoch: 270\n",
      "Epoch: 280\n",
      "Epoch: 290\n"
     ]
    },
    {
     "data": {
      "text/plain": [
       "'\\nThis loop runs for the specified number of epochs. In each iteration, \\nit calls the gradient_descent function to update the values of m and b. \\nThe if statement inside the loop is used to print the current epoch every \\n50 iterations for monitoring progress.\\n'"
      ]
     },
     "execution_count": 77,
     "metadata": {},
     "output_type": "execute_result"
    }
   ],
   "source": [
    "# Gradient Descent Loop:\n",
    "for i in range(epochs):\n",
    "    if i % 10 == 0:\n",
    "        print(f\"Epoch: {i}\")\n",
    "    m, b = gradient_descent(m,b,data_df,L)\n",
    "\n",
    "'''\n",
    "This loop runs for the specified number of epochs. In each iteration, \n",
    "it calls the gradient_descent function to update the values of m and b. \n",
    "The if statement inside the loop is used to print the current epoch every \n",
    "50 iterations for monitoring progress.\n",
    "'''"
   ]
  },
  {
   "cell_type": "code",
   "execution_count": 78,
   "metadata": {},
   "outputs": [
    {
     "name": "stdout",
     "output_type": "stream",
     "text": [
      "8.491247146461138\n",
      "3.094949235812092\n"
     ]
    }
   ],
   "source": [
    "print(m)\n",
    "print(b)"
   ]
  },
  {
   "cell_type": "code",
   "execution_count": 79,
   "metadata": {},
   "outputs": [
    {
     "data": {
      "image/png": "[encoded data removed]",
      "text/plain": [
       "<Figure size 640x480 with 1 Axes>"
      ]
     },
     "metadata": {},
     "output_type": "display_data"
    }
   ],
   "source": [
    "# Plotting the data and fitted line\n",
    "plt.scatter(data_df.studytime, data_df.score, color=\"black\")\n",
    "plt.plot(data_df.studytime, m * data_df.studytime + b, color=\"red\")\n",
    "plt.xlabel('Study Time (hours)')\n",
    "plt.ylabel('Score')\n",
    "plt.title('Linear Regression Fit')\n",
    "plt.show()"
   ]
  },
  {
   "attachments": {},
   "cell_type": "markdown",
   "metadata": {},
   "source": [
    "## Reference\n",
    "\n",
    "- https://www.youtube.com/watch?v=VmbA0pi2cRQ&ab_channel=NeuralNine"
   ]
  },
  {
   "cell_type": "code",
   "execution_count": null,
   "metadata": {},
   "outputs": [],
   "source": []
  }
 ],
 "metadata": {
  "kernelspec": {
   "display_name": "Python 3",
   "language": "python",
   "name": "python3"
  },
  "language_info": {
   "codemirror_mode": {
    "name": "ipython",
    "version": 3
   },
   "file_extension": ".py",
   "mimetype": "text/x-python",
   "name": "python",
   "nbconvert_exporter": "python",
   "pygments_lexer": "ipython3",
   "version": "3.11.3"
  },
  "orig_nbformat": 4
 },
 "nbformat": 4,
 "nbformat_minor": 2
}
